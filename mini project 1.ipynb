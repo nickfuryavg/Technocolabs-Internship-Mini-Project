{
 "cells": [
  {
   "cell_type": "markdown",
   "id": "e97f87d2",
   "metadata": {},
   "source": [
    "## Problem statement\n",
    "\n",
    "BigMart's data scientists have gathered 2013 sales information for 1559 goods from 10 shops located in various cities. Additionally stated are the characteristics of each product and retailer.\n",
    "\n",
    "This data science project aims to create a prediction model and determine each product's sales at a certain retailer.\n",
    "\n",
    "With the help of this model, BigMart will attempt to comprehend the characteristics of the goods and the shops that are essential to boosting sales."
   ]
  },
  {
   "cell_type": "markdown",
   "id": "c2b44cda",
   "metadata": {},
   "source": [
    "## Hypothesis Generation \n",
    "\n",
    "\n",
    "In any machine learning process, this step is crucial.\n",
    "Basically, it is brainstorming and generating as many thoughts as you can concerning potential influences on the goal variable.\n",
    "It enables us to more effectively and efficiently explore the data at hand.\n",
    "Before viewing the data, we should generate hypotheses to avoid creating biassed hypotheses.\n",
    "The theories based on the problem statement are listed below.\n",
    "\n",
    "1. Weekends are when sales are highest.\n",
    "2. Increased sales in the early morning and late at night.\n",
    "3. Increased revenues at the year's conclusion.\n",
    "4. Shop size has an impact on sales.\n",
    "5. The store's location has an impact on sales.\n",
    "6. Goods that have greater shelf space sell better."
   ]
  },
  {
   "cell_type": "markdown",
   "id": "8870d23d",
   "metadata": {},
   "source": [
    "##  Loading Packages "
   ]
  },
  {
   "cell_type": "code",
   "execution_count": 1,
   "id": "f109fdde",
   "metadata": {},
   "outputs": [],
   "source": [
    "import numpy as np\n",
    "import seaborn as sns\n",
    "import matplotlib.pyplot as plt\n",
    "%matplotlib inline\n",
    "import pandas as pd"
   ]
  },
  {
   "cell_type": "markdown",
   "id": "dd1edb0a",
   "metadata": {},
   "source": [
    "## Loading the Dataset"
   ]
  },
  {
   "cell_type": "code",
   "execution_count": 3,
   "id": "94c35d04",
   "metadata": {
    "scrolled": true
   },
   "outputs": [
    {
     "data": {
      "text/html": [
       "<div>\n",
       "<style scoped>\n",
       "    .dataframe tbody tr th:only-of-type {\n",
       "        vertical-align: middle;\n",
       "    }\n",
       "\n",
       "    .dataframe tbody tr th {\n",
       "        vertical-align: top;\n",
       "    }\n",
       "\n",
       "    .dataframe thead th {\n",
       "        text-align: right;\n",
       "    }\n",
       "</style>\n",
       "<table border=\"1\" class=\"dataframe\">\n",
       "  <thead>\n",
       "    <tr style=\"text-align: right;\">\n",
       "      <th></th>\n",
       "      <th>Item_Identifier</th>\n",
       "      <th>Item_Weight</th>\n",
       "      <th>Item_Fat_Content</th>\n",
       "      <th>Item_Visibility</th>\n",
       "      <th>Item_Type</th>\n",
       "      <th>Item_MRP</th>\n",
       "      <th>Outlet_Identifier</th>\n",
       "      <th>Outlet_Establishment_Year</th>\n",
       "      <th>Outlet_Size</th>\n",
       "      <th>Outlet_Location_Type</th>\n",
       "      <th>Outlet_Type</th>\n",
       "      <th>Item_Outlet_Sales</th>\n",
       "    </tr>\n",
       "  </thead>\n",
       "  <tbody>\n",
       "    <tr>\n",
       "      <th>0</th>\n",
       "      <td>FDA15</td>\n",
       "      <td>9.30</td>\n",
       "      <td>Low Fat</td>\n",
       "      <td>0.016047</td>\n",
       "      <td>Dairy</td>\n",
       "      <td>249.8092</td>\n",
       "      <td>OUT049</td>\n",
       "      <td>1999</td>\n",
       "      <td>Medium</td>\n",
       "      <td>Tier 1</td>\n",
       "      <td>Supermarket Type1</td>\n",
       "      <td>3735.1380</td>\n",
       "    </tr>\n",
       "    <tr>\n",
       "      <th>1</th>\n",
       "      <td>DRC01</td>\n",
       "      <td>5.92</td>\n",
       "      <td>Regular</td>\n",
       "      <td>0.019278</td>\n",
       "      <td>Soft Drinks</td>\n",
       "      <td>48.2692</td>\n",
       "      <td>OUT018</td>\n",
       "      <td>2009</td>\n",
       "      <td>Medium</td>\n",
       "      <td>Tier 3</td>\n",
       "      <td>Supermarket Type2</td>\n",
       "      <td>443.4228</td>\n",
       "    </tr>\n",
       "    <tr>\n",
       "      <th>2</th>\n",
       "      <td>FDN15</td>\n",
       "      <td>17.50</td>\n",
       "      <td>Low Fat</td>\n",
       "      <td>0.016760</td>\n",
       "      <td>Meat</td>\n",
       "      <td>141.6180</td>\n",
       "      <td>OUT049</td>\n",
       "      <td>1999</td>\n",
       "      <td>Medium</td>\n",
       "      <td>Tier 1</td>\n",
       "      <td>Supermarket Type1</td>\n",
       "      <td>2097.2700</td>\n",
       "    </tr>\n",
       "    <tr>\n",
       "      <th>3</th>\n",
       "      <td>FDX07</td>\n",
       "      <td>19.20</td>\n",
       "      <td>Regular</td>\n",
       "      <td>0.000000</td>\n",
       "      <td>Fruits and Vegetables</td>\n",
       "      <td>182.0950</td>\n",
       "      <td>OUT010</td>\n",
       "      <td>1998</td>\n",
       "      <td>NaN</td>\n",
       "      <td>Tier 3</td>\n",
       "      <td>Grocery Store</td>\n",
       "      <td>732.3800</td>\n",
       "    </tr>\n",
       "    <tr>\n",
       "      <th>4</th>\n",
       "      <td>NCD19</td>\n",
       "      <td>8.93</td>\n",
       "      <td>Low Fat</td>\n",
       "      <td>0.000000</td>\n",
       "      <td>Household</td>\n",
       "      <td>53.8614</td>\n",
       "      <td>OUT013</td>\n",
       "      <td>1987</td>\n",
       "      <td>High</td>\n",
       "      <td>Tier 3</td>\n",
       "      <td>Supermarket Type1</td>\n",
       "      <td>994.7052</td>\n",
       "    </tr>\n",
       "  </tbody>\n",
       "</table>\n",
       "</div>"
      ],
      "text/plain": [
       "  Item_Identifier  Item_Weight Item_Fat_Content  Item_Visibility  \\\n",
       "0           FDA15         9.30          Low Fat         0.016047   \n",
       "1           DRC01         5.92          Regular         0.019278   \n",
       "2           FDN15        17.50          Low Fat         0.016760   \n",
       "3           FDX07        19.20          Regular         0.000000   \n",
       "4           NCD19         8.93          Low Fat         0.000000   \n",
       "\n",
       "               Item_Type  Item_MRP Outlet_Identifier  \\\n",
       "0                  Dairy  249.8092            OUT049   \n",
       "1            Soft Drinks   48.2692            OUT018   \n",
       "2                   Meat  141.6180            OUT049   \n",
       "3  Fruits and Vegetables  182.0950            OUT010   \n",
       "4              Household   53.8614            OUT013   \n",
       "\n",
       "   Outlet_Establishment_Year Outlet_Size Outlet_Location_Type  \\\n",
       "0                       1999      Medium               Tier 1   \n",
       "1                       2009      Medium               Tier 3   \n",
       "2                       1999      Medium               Tier 1   \n",
       "3                       1998         NaN               Tier 3   \n",
       "4                       1987        High               Tier 3   \n",
       "\n",
       "         Outlet_Type  Item_Outlet_Sales  \n",
       "0  Supermarket Type1          3735.1380  \n",
       "1  Supermarket Type2           443.4228  \n",
       "2  Supermarket Type1          2097.2700  \n",
       "3      Grocery Store           732.3800  \n",
       "4  Supermarket Type1           994.7052  "
      ]
     },
     "execution_count": 3,
     "metadata": {},
     "output_type": "execute_result"
    }
   ],
   "source": [
    "df=pd.read_csv(\"Train.csv\")\n",
    "df.head()"
   ]
  },
  {
   "cell_type": "markdown",
   "id": "1f696790",
   "metadata": {},
   "source": [
    "##  Exploratory Data Analysis"
   ]
  },
  {
   "cell_type": "code",
   "execution_count": 4,
   "id": "83a60219",
   "metadata": {},
   "outputs": [
    {
     "data": {
      "text/plain": [
       "Item_Identifier               object\n",
       "Item_Weight                  float64\n",
       "Item_Fat_Content              object\n",
       "Item_Visibility              float64\n",
       "Item_Type                     object\n",
       "Item_MRP                     float64\n",
       "Outlet_Identifier             object\n",
       "Outlet_Establishment_Year      int64\n",
       "Outlet_Size                   object\n",
       "Outlet_Location_Type          object\n",
       "Outlet_Type                   object\n",
       "Item_Outlet_Sales            float64\n",
       "dtype: object"
      ]
     },
     "execution_count": 4,
     "metadata": {},
     "output_type": "execute_result"
    }
   ],
   "source": [
    "df.dtypes"
   ]
  },
  {
   "cell_type": "code",
   "execution_count": 5,
   "id": "b29796dc",
   "metadata": {},
   "outputs": [
    {
     "name": "stdout",
     "output_type": "stream",
     "text": [
      "<class 'pandas.core.frame.DataFrame'>\n",
      "RangeIndex: 8523 entries, 0 to 8522\n",
      "Data columns (total 12 columns):\n",
      " #   Column                     Non-Null Count  Dtype  \n",
      "---  ------                     --------------  -----  \n",
      " 0   Item_Identifier            8523 non-null   object \n",
      " 1   Item_Weight                7060 non-null   float64\n",
      " 2   Item_Fat_Content           8523 non-null   object \n",
      " 3   Item_Visibility            8523 non-null   float64\n",
      " 4   Item_Type                  8523 non-null   object \n",
      " 5   Item_MRP                   8523 non-null   float64\n",
      " 6   Outlet_Identifier          8523 non-null   object \n",
      " 7   Outlet_Establishment_Year  8523 non-null   int64  \n",
      " 8   Outlet_Size                6113 non-null   object \n",
      " 9   Outlet_Location_Type       8523 non-null   object \n",
      " 10  Outlet_Type                8523 non-null   object \n",
      " 11  Item_Outlet_Sales          8523 non-null   float64\n",
      "dtypes: float64(4), int64(1), object(7)\n",
      "memory usage: 799.2+ KB\n"
     ]
    }
   ],
   "source": [
    "df.info()"
   ]
  },
  {
   "cell_type": "code",
   "execution_count": 6,
   "id": "cab7ac6d",
   "metadata": {},
   "outputs": [
    {
     "data": {
      "text/html": [
       "<div>\n",
       "<style scoped>\n",
       "    .dataframe tbody tr th:only-of-type {\n",
       "        vertical-align: middle;\n",
       "    }\n",
       "\n",
       "    .dataframe tbody tr th {\n",
       "        vertical-align: top;\n",
       "    }\n",
       "\n",
       "    .dataframe thead th {\n",
       "        text-align: right;\n",
       "    }\n",
       "</style>\n",
       "<table border=\"1\" class=\"dataframe\">\n",
       "  <thead>\n",
       "    <tr style=\"text-align: right;\">\n",
       "      <th></th>\n",
       "      <th>Item_Weight</th>\n",
       "      <th>Item_Visibility</th>\n",
       "      <th>Item_MRP</th>\n",
       "      <th>Outlet_Establishment_Year</th>\n",
       "      <th>Item_Outlet_Sales</th>\n",
       "    </tr>\n",
       "  </thead>\n",
       "  <tbody>\n",
       "    <tr>\n",
       "      <th>count</th>\n",
       "      <td>7060.000000</td>\n",
       "      <td>8523.000000</td>\n",
       "      <td>8523.000000</td>\n",
       "      <td>8523.000000</td>\n",
       "      <td>8523.000000</td>\n",
       "    </tr>\n",
       "    <tr>\n",
       "      <th>mean</th>\n",
       "      <td>12.857645</td>\n",
       "      <td>0.066132</td>\n",
       "      <td>140.992782</td>\n",
       "      <td>1997.831867</td>\n",
       "      <td>2181.288914</td>\n",
       "    </tr>\n",
       "    <tr>\n",
       "      <th>std</th>\n",
       "      <td>4.643456</td>\n",
       "      <td>0.051598</td>\n",
       "      <td>62.275067</td>\n",
       "      <td>8.371760</td>\n",
       "      <td>1706.499616</td>\n",
       "    </tr>\n",
       "    <tr>\n",
       "      <th>min</th>\n",
       "      <td>4.555000</td>\n",
       "      <td>0.000000</td>\n",
       "      <td>31.290000</td>\n",
       "      <td>1985.000000</td>\n",
       "      <td>33.290000</td>\n",
       "    </tr>\n",
       "    <tr>\n",
       "      <th>25%</th>\n",
       "      <td>8.773750</td>\n",
       "      <td>0.026989</td>\n",
       "      <td>93.826500</td>\n",
       "      <td>1987.000000</td>\n",
       "      <td>834.247400</td>\n",
       "    </tr>\n",
       "    <tr>\n",
       "      <th>50%</th>\n",
       "      <td>12.600000</td>\n",
       "      <td>0.053931</td>\n",
       "      <td>143.012800</td>\n",
       "      <td>1999.000000</td>\n",
       "      <td>1794.331000</td>\n",
       "    </tr>\n",
       "    <tr>\n",
       "      <th>75%</th>\n",
       "      <td>16.850000</td>\n",
       "      <td>0.094585</td>\n",
       "      <td>185.643700</td>\n",
       "      <td>2004.000000</td>\n",
       "      <td>3101.296400</td>\n",
       "    </tr>\n",
       "    <tr>\n",
       "      <th>max</th>\n",
       "      <td>21.350000</td>\n",
       "      <td>0.328391</td>\n",
       "      <td>266.888400</td>\n",
       "      <td>2009.000000</td>\n",
       "      <td>13086.964800</td>\n",
       "    </tr>\n",
       "  </tbody>\n",
       "</table>\n",
       "</div>"
      ],
      "text/plain": [
       "       Item_Weight  Item_Visibility     Item_MRP  Outlet_Establishment_Year  \\\n",
       "count  7060.000000      8523.000000  8523.000000                8523.000000   \n",
       "mean     12.857645         0.066132   140.992782                1997.831867   \n",
       "std       4.643456         0.051598    62.275067                   8.371760   \n",
       "min       4.555000         0.000000    31.290000                1985.000000   \n",
       "25%       8.773750         0.026989    93.826500                1987.000000   \n",
       "50%      12.600000         0.053931   143.012800                1999.000000   \n",
       "75%      16.850000         0.094585   185.643700                2004.000000   \n",
       "max      21.350000         0.328391   266.888400                2009.000000   \n",
       "\n",
       "       Item_Outlet_Sales  \n",
       "count        8523.000000  \n",
       "mean         2181.288914  \n",
       "std          1706.499616  \n",
       "min            33.290000  \n",
       "25%           834.247400  \n",
       "50%          1794.331000  \n",
       "75%          3101.296400  \n",
       "max         13086.964800  "
      ]
     },
     "execution_count": 6,
     "metadata": {},
     "output_type": "execute_result"
    }
   ],
   "source": [
    "df.describe()"
   ]
  },
  {
   "cell_type": "code",
   "execution_count": 7,
   "id": "45175d48",
   "metadata": {},
   "outputs": [
    {
     "data": {
      "text/plain": [
       "Item_Identifier                 0\n",
       "Item_Weight                  1463\n",
       "Item_Fat_Content                0\n",
       "Item_Visibility                 0\n",
       "Item_Type                       0\n",
       "Item_MRP                        0\n",
       "Outlet_Identifier               0\n",
       "Outlet_Establishment_Year       0\n",
       "Outlet_Size                  2410\n",
       "Outlet_Location_Type            0\n",
       "Outlet_Type                     0\n",
       "Item_Outlet_Sales               0\n",
       "dtype: int64"
      ]
     },
     "execution_count": 7,
     "metadata": {},
     "output_type": "execute_result"
    }
   ],
   "source": [
    "df.isnull().sum()"
   ]
  },
  {
   "cell_type": "markdown",
   "id": "6450904b",
   "metadata": {},
   "source": [
    "## Missing Value Treatment"
   ]
  },
  {
   "cell_type": "code",
   "execution_count": null,
   "id": "5e58d080",
   "metadata": {},
   "outputs": [],
   "source": [
    "#Replacing NULL values in Numerical columns using Median\n",
    "#Replacing NULL values in Categoical columns using Mode\n",
    "df.fillna(value=df['Item_Weight'].median(),inplace =True)\n",
    "df.fillna(value=df['Outlet_Size'].mode(),inplace =True)"
   ]
  },
  {
   "cell_type": "code",
   "execution_count": 11,
   "id": "73333111",
   "metadata": {},
   "outputs": [
    {
     "data": {
      "text/plain": [
       "Item_Identifier              0\n",
       "Item_Weight                  0\n",
       "Item_Fat_Content             0\n",
       "Item_Visibility              0\n",
       "Item_Type                    0\n",
       "Item_MRP                     0\n",
       "Outlet_Identifier            0\n",
       "Outlet_Establishment_Year    0\n",
       "Outlet_Size                  0\n",
       "Outlet_Location_Type         0\n",
       "Outlet_Type                  0\n",
       "Item_Outlet_Sales            0\n",
       "dtype: int64"
      ]
     },
     "execution_count": 11,
     "metadata": {},
     "output_type": "execute_result"
    }
   ],
   "source": [
    "df.isnull().sum()"
   ]
  },
  {
   "cell_type": "code",
   "execution_count": 14,
   "id": "7a20045f",
   "metadata": {},
   "outputs": [
    {
     "data": {
      "text/plain": [
       "0"
      ]
     },
     "execution_count": 14,
     "metadata": {},
     "output_type": "execute_result"
    }
   ],
   "source": [
    "df.duplicated().sum()"
   ]
  },
  {
   "cell_type": "markdown",
   "id": "b0281635",
   "metadata": {},
   "source": [
    "## Using the boxplot to check outliers "
   ]
  },
  {
   "cell_type": "code",
   "execution_count": 15,
   "id": "21a12fd3",
   "metadata": {},
   "outputs": [
    {
     "data": {
      "text/plain": [
       "<AxesSubplot:>"
      ]
     },
     "execution_count": 15,
     "metadata": {},
     "output_type": "execute_result"
    },
    {
     "data": {
      "image/png": "[encoded data removed]",
      "text/plain": [
       "<Figure size 720x1440 with 1 Axes>"
      ]
     },
     "metadata": {
      "needs_background": "light"
     },
     "output_type": "display_data"
    }
   ],
   "source": [
    "df.plot(kind='box',figsize=(10,20))"
   ]
  },
  {
   "cell_type": "code",
   "execution_count": 16,
   "id": "bed0b01b",
   "metadata": {},
   "outputs": [
    {
     "data": {
      "text/plain": [
       "<AxesSubplot:xlabel='Item_Weight'>"
      ]
     },
     "execution_count": 16,
     "metadata": {},
     "output_type": "execute_result"
    },
    {
     "data": {
      "image/png": "[encoded data removed]",
      "text/plain": [
       "<Figure size 432x288 with 1 Axes>"
      ]
     },
     "metadata": {
      "needs_background": "light"
     },
     "output_type": "display_data"
    }
   ],
   "source": [
    "sns.boxplot(x=df['Item_Weight'])"
   ]
  },
  {
   "cell_type": "code",
   "execution_count": 17,
   "id": "c401127d",
   "metadata": {},
   "outputs": [
    {
     "data": {
      "text/plain": [
       "<AxesSubplot:xlabel='Item_Visibility'>"
      ]
     },
     "execution_count": 17,
     "metadata": {},
     "output_type": "execute_result"
    },
    {
     "data": {
      "image/png": "[encoded data removed]",
      "text/plain": [
       "<Figure size 432x288 with 1 Axes>"
      ]
     },
     "metadata": {
      "needs_background": "light"
     },
     "output_type": "display_data"
    }
   ],
   "source": [
    "sns.boxplot(x=df['Item_Visibility'])"
   ]
  },
  {
   "cell_type": "markdown",
   "id": "a8c95119",
   "metadata": {},
   "source": [
    "## Removing outliers using IQR"
   ]
  },
  {
   "cell_type": "code",
   "execution_count": 18,
   "id": "615abb00",
   "metadata": {},
   "outputs": [
    {
     "data": {
      "text/plain": [
       "<AxesSubplot:xlabel='Item_Visibility'>"
      ]
     },
     "execution_count": 18,
     "metadata": {},
     "output_type": "execute_result"
    },
    {
     "data": {
      "image/png": "[encoded data removed]",
      "text/plain": [
       "<Figure size 432x288 with 1 Axes>"
      ]
     },
     "metadata": {
      "needs_background": "light"
     },
     "output_type": "display_data"
    }
   ],
   "source": [
    "Q1=df['Item_Visibility'].quantile(.25)\n",
    "Q3=df['Item_Visibility'].quantile(.75)\n",
    "IQR=Q3-Q1\n",
    "LL=Q1-(1.5*IQR)\n",
    "HL=Q3+(1.5*IQR)\n",
    "data_no_outliers=df[(df['Item_Visibility']>LL)&(df['Item_Visibility']<HL)]\n",
    "sns.boxplot(x=data_no_outliers['Item_Visibility']) "
   ]
  },
  {
   "cell_type": "code",
   "execution_count": 19,
   "id": "813d42fa",
   "metadata": {},
   "outputs": [
    {
     "data": {
      "text/plain": [
       "<AxesSubplot:xlabel='Item_MRP'>"
      ]
     },
     "execution_count": 19,
     "metadata": {},
     "output_type": "execute_result"
    },
    {
     "data": {
      "image/png": "[encoded data removed]",
      "text/plain": [
       "<Figure size 432x288 with 1 Axes>"
      ]
     },
     "metadata": {
      "needs_background": "light"
     },
     "output_type": "display_data"
    }
   ],
   "source": [
    "sns.boxplot(x=df['Item_MRP'])"
   ]
  },
  {
   "cell_type": "code",
   "execution_count": 20,
   "id": "f47c74b3",
   "metadata": {},
   "outputs": [
    {
     "data": {
      "text/plain": [
       "<AxesSubplot:xlabel='Outlet_Establishment_Year'>"
      ]
     },
     "execution_count": 20,
     "metadata": {},
     "output_type": "execute_result"
    },
    {
     "data": {
      "image/png": "[encoded data removed]",
      "text/plain": [
       "<Figure size 432x288 with 1 Axes>"
      ]
     },
     "metadata": {
      "needs_background": "light"
     },
     "output_type": "display_data"
    }
   ],
   "source": [
    "sns.boxplot(x=df['Outlet_Establishment_Year'])"
   ]
  },
  {
   "cell_type": "code",
   "execution_count": 21,
   "id": "6eb64eed",
   "metadata": {},
   "outputs": [
    {
     "data": {
      "text/plain": [
       "<AxesSubplot:xlabel='Item_Outlet_Sales'>"
      ]
     },
     "execution_count": 21,
     "metadata": {},
     "output_type": "execute_result"
    },
    {
     "data": {
      "image/png": "[encoded data removed]",
      "text/plain": [
       "<Figure size 432x288 with 1 Axes>"
      ]
     },
     "metadata": {
      "needs_background": "light"
     },
     "output_type": "display_data"
    }
   ],
   "source": [
    "sns.boxplot(x=df['Item_Outlet_Sales'])"
   ]
  },
  {
   "cell_type": "markdown",
   "id": "ed187ed7",
   "metadata": {},
   "source": [
    "## Removing outliers using IQR"
   ]
  },
  {
   "cell_type": "code",
   "execution_count": 22,
   "id": "2544ed08",
   "metadata": {},
   "outputs": [
    {
     "data": {
      "text/plain": [
       "<AxesSubplot:xlabel='Item_Outlet_Sales'>"
      ]
     },
     "execution_count": 22,
     "metadata": {},
     "output_type": "execute_result"
    },
    {
     "data": {
      "image/png": "[encoded data removed]",
      "text/plain": [
       "<Figure size 432x288 with 1 Axes>"
      ]
     },
     "metadata": {
      "needs_background": "light"
     },
     "output_type": "display_data"
    }
   ],
   "source": [
    "Q1=df['Item_Outlet_Sales'].quantile(.25)\n",
    "Q3=df['Item_Outlet_Sales'].quantile(.75)\n",
    "IQR=Q3-Q1\n",
    "LL=Q1-(1.5*IQR)\n",
    "HL=Q3+(1.5*IQR)\n",
    "data_no_outliers=df[(df['Item_Outlet_Sales']>LL)&(df['Item_Outlet_Sales']<HL)]\n",
    "sns.boxplot(x=data_no_outliers['Item_Outlet_Sales']) "
   ]
  },
  {
   "cell_type": "code",
   "execution_count": 23,
   "id": "92c6d7c6",
   "metadata": {},
   "outputs": [],
   "source": [
    "df1=df.copy()"
   ]
  },
  {
   "cell_type": "markdown",
   "id": "f84da9af",
   "metadata": {},
   "source": [
    "## Getting the profile report for feature engineering"
   ]
  },
  {
   "cell_type": "code",
   "execution_count": 24,
   "id": "6d8fc27b",
   "metadata": {},
   "outputs": [],
   "source": [
    "import pandas as pd\n",
    "import pandas_profiling as pp"
   ]
  },
  {
   "cell_type": "code",
   "execution_count": 25,
   "id": "fe111229",
   "metadata": {},
   "outputs": [
    {
     "data": {
      "application/vnd.jupyter.widget-view+json": {
       "model_id": "f8631b4e500844aeaa54cde571f56a7d",
       "version_major": 2,
       "version_minor": 0
      },
      "text/plain": [
       "Summarize dataset:   0%|          | 0/5 [00:00<?, ?it/s]"
      ]
     },
     "metadata": {},
     "output_type": "display_data"
    },
    {
     "data": {
      "application/vnd.jupyter.widget-view+json": {
       "model_id": "4791e809e6f4408bab92e508f531b131",
       "version_major": 2,
       "version_minor": 0
      },
      "text/plain": [
       "Generate report structure:   0%|          | 0/1 [00:00<?, ?it/s]"
      ]
     },
     "metadata": {},
     "output_type": "display_data"
    },
    {
     "data": {
      "application/vnd.jupyter.widget-view+json": {
       "model_id": "f69b645e434a430e9c1e79ab6f09683a",
       "version_major": 2,
       "version_minor": 0
      },
      "text/plain": [
       "Render HTML:   0%|          | 0/1 [00:00<?, ?it/s]"
      ]
     },
     "metadata": {},
     "output_type": "display_data"
    },
    {
     "data": {
      "application/vnd.jupyter.widget-view+json": {
       "model_id": "f297ffcd892f4b75abb775f7221745a1",
       "version_major": 2,
       "version_minor": 0
      },
      "text/plain": [
       "Export report to file:   0%|          | 0/1 [00:00<?, ?it/s]"
      ]
     },
     "metadata": {},
     "output_type": "display_data"
    }
   ],
   "source": [
    "profile = pp.ProfileReport(df)\n",
    "profile.to_file(\"output1.html\")"
   ]
  },
  {
   "cell_type": "code",
   "execution_count": 28,
   "id": "89434528",
   "metadata": {},
   "outputs": [
    {
     "data": {
      "text/html": [
       "<div>\n",
       "<style scoped>\n",
       "    .dataframe tbody tr th:only-of-type {\n",
       "        vertical-align: middle;\n",
       "    }\n",
       "\n",
       "    .dataframe tbody tr th {\n",
       "        vertical-align: top;\n",
       "    }\n",
       "\n",
       "    .dataframe thead th {\n",
       "        text-align: right;\n",
       "    }\n",
       "</style>\n",
       "<table border=\"1\" class=\"dataframe\">\n",
       "  <thead>\n",
       "    <tr style=\"text-align: right;\">\n",
       "      <th></th>\n",
       "      <th>Item_Identifier</th>\n",
       "      <th>Item_Weight</th>\n",
       "      <th>Item_Fat_Content</th>\n",
       "      <th>Item_Visibility</th>\n",
       "      <th>Item_Type</th>\n",
       "      <th>Item_MRP</th>\n",
       "      <th>Outlet_Identifier</th>\n",
       "      <th>Outlet_Establishment_Year</th>\n",
       "      <th>Outlet_Size</th>\n",
       "      <th>Outlet_Location_Type</th>\n",
       "      <th>Outlet_Type</th>\n",
       "      <th>Item_Outlet_Sales</th>\n",
       "    </tr>\n",
       "  </thead>\n",
       "  <tbody>\n",
       "    <tr>\n",
       "      <th>0</th>\n",
       "      <td>FDA15</td>\n",
       "      <td>9.30</td>\n",
       "      <td>Low Fat</td>\n",
       "      <td>0.016047</td>\n",
       "      <td>Dairy</td>\n",
       "      <td>249.8092</td>\n",
       "      <td>OUT049</td>\n",
       "      <td>1999</td>\n",
       "      <td>Medium</td>\n",
       "      <td>Tier 1</td>\n",
       "      <td>Supermarket Type1</td>\n",
       "      <td>3735.1380</td>\n",
       "    </tr>\n",
       "    <tr>\n",
       "      <th>1</th>\n",
       "      <td>DRC01</td>\n",
       "      <td>5.92</td>\n",
       "      <td>Regular</td>\n",
       "      <td>0.019278</td>\n",
       "      <td>Soft Drinks</td>\n",
       "      <td>48.2692</td>\n",
       "      <td>OUT018</td>\n",
       "      <td>2009</td>\n",
       "      <td>Medium</td>\n",
       "      <td>Tier 3</td>\n",
       "      <td>Supermarket Type2</td>\n",
       "      <td>443.4228</td>\n",
       "    </tr>\n",
       "    <tr>\n",
       "      <th>2</th>\n",
       "      <td>FDN15</td>\n",
       "      <td>17.50</td>\n",
       "      <td>Low Fat</td>\n",
       "      <td>0.016760</td>\n",
       "      <td>Meat</td>\n",
       "      <td>141.6180</td>\n",
       "      <td>OUT049</td>\n",
       "      <td>1999</td>\n",
       "      <td>Medium</td>\n",
       "      <td>Tier 1</td>\n",
       "      <td>Supermarket Type1</td>\n",
       "      <td>2097.2700</td>\n",
       "    </tr>\n",
       "    <tr>\n",
       "      <th>3</th>\n",
       "      <td>FDX07</td>\n",
       "      <td>19.20</td>\n",
       "      <td>Regular</td>\n",
       "      <td>0.000000</td>\n",
       "      <td>Fruits and Vegetables</td>\n",
       "      <td>182.0950</td>\n",
       "      <td>OUT010</td>\n",
       "      <td>1998</td>\n",
       "      <td>12.6</td>\n",
       "      <td>Tier 3</td>\n",
       "      <td>Grocery Store</td>\n",
       "      <td>732.3800</td>\n",
       "    </tr>\n",
       "    <tr>\n",
       "      <th>4</th>\n",
       "      <td>NCD19</td>\n",
       "      <td>8.93</td>\n",
       "      <td>Low Fat</td>\n",
       "      <td>0.000000</td>\n",
       "      <td>Household</td>\n",
       "      <td>53.8614</td>\n",
       "      <td>OUT013</td>\n",
       "      <td>1987</td>\n",
       "      <td>High</td>\n",
       "      <td>Tier 3</td>\n",
       "      <td>Supermarket Type1</td>\n",
       "      <td>994.7052</td>\n",
       "    </tr>\n",
       "  </tbody>\n",
       "</table>\n",
       "</div>"
      ],
      "text/plain": [
       "  Item_Identifier  Item_Weight Item_Fat_Content  Item_Visibility  \\\n",
       "0           FDA15         9.30          Low Fat         0.016047   \n",
       "1           DRC01         5.92          Regular         0.019278   \n",
       "2           FDN15        17.50          Low Fat         0.016760   \n",
       "3           FDX07        19.20          Regular         0.000000   \n",
       "4           NCD19         8.93          Low Fat         0.000000   \n",
       "\n",
       "               Item_Type  Item_MRP Outlet_Identifier  \\\n",
       "0                  Dairy  249.8092            OUT049   \n",
       "1            Soft Drinks   48.2692            OUT018   \n",
       "2                   Meat  141.6180            OUT049   \n",
       "3  Fruits and Vegetables  182.0950            OUT010   \n",
       "4              Household   53.8614            OUT013   \n",
       "\n",
       "   Outlet_Establishment_Year Outlet_Size Outlet_Location_Type  \\\n",
       "0                       1999      Medium               Tier 1   \n",
       "1                       2009      Medium               Tier 3   \n",
       "2                       1999      Medium               Tier 1   \n",
       "3                       1998        12.6               Tier 3   \n",
       "4                       1987        High               Tier 3   \n",
       "\n",
       "         Outlet_Type  Item_Outlet_Sales  \n",
       "0  Supermarket Type1          3735.1380  \n",
       "1  Supermarket Type2           443.4228  \n",
       "2  Supermarket Type1          2097.2700  \n",
       "3      Grocery Store           732.3800  \n",
       "4  Supermarket Type1           994.7052  "
      ]
     },
     "execution_count": 28,
     "metadata": {},
     "output_type": "execute_result"
    }
   ],
   "source": [
    "df.head()"
   ]
  },
  {
   "cell_type": "markdown",
   "id": "5e5ca628",
   "metadata": {},
   "source": [
    "## Checking the distribution of 'Item_Outlet_Sales' column"
   ]
  },
  {
   "cell_type": "code",
   "execution_count": 92,
   "id": "c0e0db6c",
   "metadata": {},
   "outputs": [
    {
     "data": {
      "text/plain": [
       "<AxesSubplot:xlabel='Item_Outlet_Sales', ylabel='Count'>"
      ]
     },
     "execution_count": 92,
     "metadata": {},
     "output_type": "execute_result"
    },
    {
     "data": {
      "image/png": "[encoded data removed]",
      "text/plain": [
       "<Figure size 720x432 with 1 Axes>"
      ]
     },
     "metadata": {
      "needs_background": "light"
     },
     "output_type": "display_data"
    }
   ],
   "source": [
    "plt.figure(figsize = (10,6))\n",
    "sns.histplot(data = df1, x = 'Item_Outlet_Sales', kde = True)"
   ]
  },
  {
   "cell_type": "code",
   "execution_count": 94,
   "id": "bf325f9e",
   "metadata": {},
   "outputs": [
    {
     "data": {
      "text/plain": [
       "<AxesSubplot:xlabel='Item_Outlet_Sales'>"
      ]
     },
     "execution_count": 94,
     "metadata": {},
     "output_type": "execute_result"
    },
    {
     "data": {
      "image/png": "[encoded data removed]",
      "text/plain": [
       "<Figure size 432x288 with 1 Axes>"
      ]
     },
     "metadata": {
      "needs_background": "light"
     },
     "output_type": "display_data"
    }
   ],
   "source": [
    "sns.boxplot(x=df1['Item_Outlet_Sales'])"
   ]
  },
  {
   "cell_type": "code",
   "execution_count": 95,
   "id": "34845f2e",
   "metadata": {},
   "outputs": [
    {
     "data": {
      "text/plain": [
       "<AxesSubplot:xlabel='Item_Outlet_Sales'>"
      ]
     },
     "execution_count": 95,
     "metadata": {},
     "output_type": "execute_result"
    },
    {
     "data": {
      "image/png": "[encoded data removed]",
      "text/plain": [
       "<Figure size 432x288 with 1 Axes>"
      ]
     },
     "metadata": {
      "needs_background": "light"
     },
     "output_type": "display_data"
    }
   ],
   "source": [
    "Q1=df['Item_Outlet_Sales'].quantile(.25)\n",
    "Q3=df['Item_Outlet_Sales'].quantile(.75)\n",
    "IQR=Q3-Q1\n",
    "LL=Q1-(1.5*IQR)\n",
    "HL=Q3+(1.5*IQR)\n",
    "data_no_outliers=df[(df['Item_Outlet_Sales']>LL)&(df['Item_Outlet_Sales']<HL)]\n",
    "sns.boxplot(x=data_no_outliers['Item_Outlet_Sales']) "
   ]
  },
  {
   "cell_type": "code",
   "execution_count": 106,
   "id": "a377068e",
   "metadata": {},
   "outputs": [
    {
     "data": {
      "text/plain": [
       "<AxesSubplot:xlabel='Item_Outlet_Sales', ylabel='Count'>"
      ]
     },
     "execution_count": 106,
     "metadata": {},
     "output_type": "execute_result"
    },
    {
     "data": {
      "image/png": "[encoded data removed]",
      "text/plain": [
       "<Figure size 720x432 with 1 Axes>"
      ]
     },
     "metadata": {
      "needs_background": "light"
     },
     "output_type": "display_data"
    }
   ],
   "source": [
    "## Function for fixing positive skewness\n",
    "def sqrt_transformation(dataframe):\n",
    "    return np.sqrt(dataframe)\n",
    "df1['Item_Outlet_Sales'] = df1['Item_Outlet_Sales'].map(sqrt_transformation)\n",
    "# After fixing skewness\n",
    "\n",
    "plt.figure(figsize = (10,6))\n",
    "sns.histplot(data = df1, x = 'Item_Outlet_Sales', kde = True)"
   ]
  },
  {
   "cell_type": "code",
   "execution_count": 114,
   "id": "b24bfb6d",
   "metadata": {},
   "outputs": [
    {
     "name": "stdout",
     "output_type": "stream",
     "text": [
      "There are 7 Categorical Attributes\n",
      "There are 5 Numerical Attributes\n"
     ]
    }
   ],
   "source": [
    "categorical_train = df1.select_dtypes(include = 'object')\n",
    "numerical_train= df1.select_dtypes(exclude = 'object')\n",
    "print(f\"There are {len(categorical_train.columns)} Categorical Attributes\")\n",
    "print(f\"There are {len(numerical_train.columns)} Numerical Attributes\")"
   ]
  },
  {
   "cell_type": "code",
   "execution_count": 116,
   "id": "3dad7e78",
   "metadata": {},
   "outputs": [
    {
     "data": {
      "image/png": "[encoded data removed]",
      "text/plain": [
       "<Figure size 864x432 with 1 Axes>"
      ]
     },
     "metadata": {
      "needs_background": "light"
     },
     "output_type": "display_data"
    },
    {
     "data": {
      "image/png": "[encoded data removed]",
      "text/plain": [
       "<Figure size 864x432 with 1 Axes>"
      ]
     },
     "metadata": {
      "needs_background": "light"
     },
     "output_type": "display_data"
    },
    {
     "data": {
      "image/png": "[encoded data removed]",
      "text/plain": [
       "<Figure size 864x432 with 1 Axes>"
      ]
     },
     "metadata": {
      "needs_background": "light"
     },
     "output_type": "display_data"
    },
    {
     "data": {
      "image/png": "[encoded data removed]",
      "text/plain": [
       "<Figure size 864x432 with 1 Axes>"
      ]
     },
     "metadata": {
      "needs_background": "light"
     },
     "output_type": "display_data"
    },
    {
     "data": {
      "image/png": "[encoded data removed]",
      "text/plain": [
       "<Figure size 864x432 with 1 Axes>"
      ]
     },
     "metadata": {
      "needs_background": "light"
     },
     "output_type": "display_data"
    }
   ],
   "source": [
    "for i in numerical_train:\n",
    "    sns.displot(data = df1, x = i, kde = True, aspect = 2, height = 6)\n",
    "    plt.xlabel(i, fontsize = 12) "
   ]
  },
  {
   "cell_type": "code",
   "execution_count": 117,
   "id": "141f30b8",
   "metadata": {},
   "outputs": [
    {
     "data": {
      "text/plain": [
       "<AxesSubplot:ylabel='Item_Weight'>"
      ]
     },
     "execution_count": 117,
     "metadata": {},
     "output_type": "execute_result"
    },
    {
     "data": {
      "image/png": "[encoded data removed]",
      "text/plain": [
       "<Figure size 432x288 with 1 Axes>"
      ]
     },
     "metadata": {
      "needs_background": "light"
     },
     "output_type": "display_data"
    }
   ],
   "source": [
    "sns.boxplot(y=df1[\"Item_Weight\"])"
   ]
  },
  {
   "cell_type": "code",
   "execution_count": 120,
   "id": "6ffb9f3c",
   "metadata": {},
   "outputs": [
    {
     "data": {
      "text/plain": [
       "<AxesSubplot:xlabel='Item_Visibility'>"
      ]
     },
     "execution_count": 120,
     "metadata": {},
     "output_type": "execute_result"
    },
    {
     "data": {
      "image/png": "[encoded data removed]",
      "text/plain": [
       "<Figure size 432x288 with 1 Axes>"
      ]
     },
     "metadata": {
      "needs_background": "light"
     },
     "output_type": "display_data"
    }
   ],
   "source": [
    "sns.boxplot(x=df1['Item_Visibility'])"
   ]
  },
  {
   "cell_type": "code",
   "execution_count": 121,
   "id": "40d93db4",
   "metadata": {},
   "outputs": [
    {
     "data": {
      "text/plain": [
       "<AxesSubplot:xlabel='Item_Visibility'>"
      ]
     },
     "execution_count": 121,
     "metadata": {},
     "output_type": "execute_result"
    },
    {
     "data": {
      "image/png": "[encoded data removed]",
      "text/plain": [
       "<Figure size 432x288 with 1 Axes>"
      ]
     },
     "metadata": {
      "needs_background": "light"
     },
     "output_type": "display_data"
    }
   ],
   "source": [
    "Q1=df['Item_Visibility'].quantile(.25)\n",
    "Q3=df['Item_Visibility'].quantile(.75)\n",
    "IQR=Q3-Q1\n",
    "LL=Q1-(1.5*IQR)\n",
    "HL=Q3+(1.5*IQR)\n",
    "data_no_outliers=df[(df['Item_Visibility']>LL)&(df['Item_Visibility']<HL)]\n",
    "sns.boxplot(x=data_no_outliers['Item_Visibility']) "
   ]
  },
  {
   "cell_type": "code",
   "execution_count": 122,
   "id": "644bf0a0",
   "metadata": {},
   "outputs": [
    {
     "data": {
      "text/plain": [
       "<seaborn.axisgrid.FacetGrid at 0x7f92eb2dc9d0>"
      ]
     },
     "execution_count": 122,
     "metadata": {},
     "output_type": "execute_result"
    },
    {
     "data": {
      "image/png": "[encoded data removed]",
      "text/plain": [
       "<Figure size 864x432 with 1 Axes>"
      ]
     },
     "metadata": {
      "needs_background": "light"
     },
     "output_type": "display_data"
    }
   ],
   "source": [
    "sns.displot(data = df1, x = 'Item_Visibility', kde = True, aspect = 2, height = 6)"
   ]
  },
  {
   "cell_type": "markdown",
   "id": "14f73564",
   "metadata": {},
   "source": [
    "## After remvoing skewness and fixing outliers on trainset"
   ]
  },
  {
   "cell_type": "code",
   "execution_count": 123,
   "id": "7815d588",
   "metadata": {},
   "outputs": [
    {
     "data": {
      "text/plain": [
       "<seaborn.axisgrid.FacetGrid at 0x7f92ecff5eb0>"
      ]
     },
     "execution_count": 123,
     "metadata": {},
     "output_type": "execute_result"
    },
    {
     "data": {
      "image/png": "[encoded data removed]",
      "text/plain": [
       "<Figure size 864x432 with 1 Axes>"
      ]
     },
     "metadata": {
      "needs_background": "light"
     },
     "output_type": "display_data"
    }
   ],
   "source": [
    "df1['Item_Visibility'] = df1[\"Item_Visibility\"].map(sqrt_transformation)\n",
    "# After remvoing skewness and fixing outliers on trainset\n",
    "\n",
    "sns.displot(x = 'Item_Visibility', data = df1, aspect = 2, height = 6, kde = True)"
   ]
  },
  {
   "cell_type": "markdown",
   "id": "f08e954c",
   "metadata": {},
   "source": [
    "## value of skewness and  Kurtosis"
   ]
  },
  {
   "cell_type": "code",
   "execution_count": 125,
   "id": "55b3ab0b",
   "metadata": {},
   "outputs": [
    {
     "name": "stdout",
     "output_type": "stream",
     "text": [
      "\n",
      "\n",
      "Item_Weight\n",
      "--------------------\n",
      "Skewness: 0.121845\n",
      "Kurtosis: -0.858109\n",
      "--------------------\n",
      "\n",
      "\n",
      "Item_Visibility\n",
      "--------------------\n",
      "Skewness: -0.098056\n",
      "Kurtosis: -0.036927\n",
      "--------------------\n",
      "\n",
      "\n",
      "Item_MRP\n",
      "--------------------\n",
      "Skewness: 0.127202\n",
      "Kurtosis: -0.889769\n",
      "--------------------\n",
      "\n",
      "\n",
      "Outlet_Establishment_Year\n",
      "--------------------\n",
      "Skewness: -0.396641\n",
      "Kurtosis: -1.205694\n",
      "--------------------\n",
      "\n",
      "\n",
      "Item_Outlet_Sales\n",
      "--------------------\n",
      "Skewness: -0.611332\n",
      "Kurtosis: -0.124804\n",
      "--------------------\n"
     ]
    }
   ],
   "source": [
    "for i in numerical_train:\n",
    "    print(\"\\n\")\n",
    "    print(i)\n",
    "    print(\"-\" * 20)\n",
    "    print(\"Skewness: %f\" % df1[i].skew())\n",
    "    print(\"Kurtosis: %f\" % df1[i].kurt())\n",
    "    print(\"-\" * 20)"
   ]
  },
  {
   "cell_type": "code",
   "execution_count": 126,
   "id": "caa4cf19",
   "metadata": {},
   "outputs": [
    {
     "data": {
      "text/html": [
       "<div>\n",
       "<style scoped>\n",
       "    .dataframe tbody tr th:only-of-type {\n",
       "        vertical-align: middle;\n",
       "    }\n",
       "\n",
       "    .dataframe tbody tr th {\n",
       "        vertical-align: top;\n",
       "    }\n",
       "\n",
       "    .dataframe thead th {\n",
       "        text-align: right;\n",
       "    }\n",
       "</style>\n",
       "<table border=\"1\" class=\"dataframe\">\n",
       "  <thead>\n",
       "    <tr style=\"text-align: right;\">\n",
       "      <th></th>\n",
       "      <th>Item_Identifier</th>\n",
       "      <th>Item_Weight</th>\n",
       "      <th>Item_Fat_Content</th>\n",
       "      <th>Item_Visibility</th>\n",
       "      <th>Item_Type</th>\n",
       "      <th>Item_MRP</th>\n",
       "      <th>Outlet_Identifier</th>\n",
       "      <th>Outlet_Establishment_Year</th>\n",
       "      <th>Outlet_Size</th>\n",
       "      <th>Outlet_Location_Type</th>\n",
       "      <th>Outlet_Type</th>\n",
       "      <th>Item_Outlet_Sales</th>\n",
       "    </tr>\n",
       "  </thead>\n",
       "  <tbody>\n",
       "    <tr>\n",
       "      <th>0</th>\n",
       "      <td>FDA15</td>\n",
       "      <td>9.30</td>\n",
       "      <td>Low Fat</td>\n",
       "      <td>0.126678</td>\n",
       "      <td>Dairy</td>\n",
       "      <td>249.8092</td>\n",
       "      <td>OUT049</td>\n",
       "      <td>1999</td>\n",
       "      <td>Medium</td>\n",
       "      <td>Tier 1</td>\n",
       "      <td>Supermarket Type1</td>\n",
       "      <td>2.796007</td>\n",
       "    </tr>\n",
       "    <tr>\n",
       "      <th>1</th>\n",
       "      <td>DRC01</td>\n",
       "      <td>5.92</td>\n",
       "      <td>Regular</td>\n",
       "      <td>0.138846</td>\n",
       "      <td>Soft Drinks</td>\n",
       "      <td>48.2692</td>\n",
       "      <td>OUT018</td>\n",
       "      <td>2009</td>\n",
       "      <td>Medium</td>\n",
       "      <td>Tier 3</td>\n",
       "      <td>Supermarket Type2</td>\n",
       "      <td>2.142162</td>\n",
       "    </tr>\n",
       "    <tr>\n",
       "      <th>2</th>\n",
       "      <td>FDN15</td>\n",
       "      <td>17.50</td>\n",
       "      <td>Low Fat</td>\n",
       "      <td>0.129461</td>\n",
       "      <td>Meat</td>\n",
       "      <td>141.6180</td>\n",
       "      <td>OUT049</td>\n",
       "      <td>1999</td>\n",
       "      <td>Medium</td>\n",
       "      <td>Tier 1</td>\n",
       "      <td>Supermarket Type1</td>\n",
       "      <td>2.601398</td>\n",
       "    </tr>\n",
       "    <tr>\n",
       "      <th>3</th>\n",
       "      <td>FDX07</td>\n",
       "      <td>19.20</td>\n",
       "      <td>Regular</td>\n",
       "      <td>0.000000</td>\n",
       "      <td>Fruits and Vegetables</td>\n",
       "      <td>182.0950</td>\n",
       "      <td>OUT010</td>\n",
       "      <td>1998</td>\n",
       "      <td>12.6</td>\n",
       "      <td>Tier 3</td>\n",
       "      <td>Grocery Store</td>\n",
       "      <td>2.280825</td>\n",
       "    </tr>\n",
       "    <tr>\n",
       "      <th>4</th>\n",
       "      <td>NCD19</td>\n",
       "      <td>8.93</td>\n",
       "      <td>Low Fat</td>\n",
       "      <td>0.000000</td>\n",
       "      <td>Household</td>\n",
       "      <td>53.8614</td>\n",
       "      <td>OUT013</td>\n",
       "      <td>1987</td>\n",
       "      <td>High</td>\n",
       "      <td>Tier 3</td>\n",
       "      <td>Supermarket Type1</td>\n",
       "      <td>2.369801</td>\n",
       "    </tr>\n",
       "  </tbody>\n",
       "</table>\n",
       "</div>"
      ],
      "text/plain": [
       "  Item_Identifier  Item_Weight Item_Fat_Content  Item_Visibility  \\\n",
       "0           FDA15         9.30          Low Fat         0.126678   \n",
       "1           DRC01         5.92          Regular         0.138846   \n",
       "2           FDN15        17.50          Low Fat         0.129461   \n",
       "3           FDX07        19.20          Regular         0.000000   \n",
       "4           NCD19         8.93          Low Fat         0.000000   \n",
       "\n",
       "               Item_Type  Item_MRP Outlet_Identifier  \\\n",
       "0                  Dairy  249.8092            OUT049   \n",
       "1            Soft Drinks   48.2692            OUT018   \n",
       "2                   Meat  141.6180            OUT049   \n",
       "3  Fruits and Vegetables  182.0950            OUT010   \n",
       "4              Household   53.8614            OUT013   \n",
       "\n",
       "   Outlet_Establishment_Year Outlet_Size Outlet_Location_Type  \\\n",
       "0                       1999      Medium               Tier 1   \n",
       "1                       2009      Medium               Tier 3   \n",
       "2                       1999      Medium               Tier 1   \n",
       "3                       1998        12.6               Tier 3   \n",
       "4                       1987        High               Tier 3   \n",
       "\n",
       "         Outlet_Type  Item_Outlet_Sales  \n",
       "0  Supermarket Type1           2.796007  \n",
       "1  Supermarket Type2           2.142162  \n",
       "2  Supermarket Type1           2.601398  \n",
       "3      Grocery Store           2.280825  \n",
       "4  Supermarket Type1           2.369801  "
      ]
     },
     "execution_count": 126,
     "metadata": {},
     "output_type": "execute_result"
    }
   ],
   "source": [
    "df1.head()"
   ]
  },
  {
   "cell_type": "markdown",
   "id": "c5aaf209",
   "metadata": {},
   "source": [
    "## Dropping of columns"
   ]
  },
  {
   "cell_type": "code",
   "execution_count": 127,
   "id": "c974a376",
   "metadata": {},
   "outputs": [
    {
     "data": {
      "text/html": [
       "<div>\n",
       "<style scoped>\n",
       "    .dataframe tbody tr th:only-of-type {\n",
       "        vertical-align: middle;\n",
       "    }\n",
       "\n",
       "    .dataframe tbody tr th {\n",
       "        vertical-align: top;\n",
       "    }\n",
       "\n",
       "    .dataframe thead th {\n",
       "        text-align: right;\n",
       "    }\n",
       "</style>\n",
       "<table border=\"1\" class=\"dataframe\">\n",
       "  <thead>\n",
       "    <tr style=\"text-align: right;\">\n",
       "      <th></th>\n",
       "      <th>Item_Weight</th>\n",
       "      <th>Item_Fat_Content</th>\n",
       "      <th>Item_Visibility</th>\n",
       "      <th>Item_Type</th>\n",
       "      <th>Item_MRP</th>\n",
       "      <th>Outlet_Size</th>\n",
       "      <th>Outlet_Location_Type</th>\n",
       "      <th>Item_Outlet_Sales</th>\n",
       "    </tr>\n",
       "  </thead>\n",
       "  <tbody>\n",
       "    <tr>\n",
       "      <th>0</th>\n",
       "      <td>9.300</td>\n",
       "      <td>Low Fat</td>\n",
       "      <td>0.126678</td>\n",
       "      <td>Dairy</td>\n",
       "      <td>249.8092</td>\n",
       "      <td>Medium</td>\n",
       "      <td>Tier 1</td>\n",
       "      <td>2.796007</td>\n",
       "    </tr>\n",
       "    <tr>\n",
       "      <th>1</th>\n",
       "      <td>5.920</td>\n",
       "      <td>Regular</td>\n",
       "      <td>0.138846</td>\n",
       "      <td>Soft Drinks</td>\n",
       "      <td>48.2692</td>\n",
       "      <td>Medium</td>\n",
       "      <td>Tier 3</td>\n",
       "      <td>2.142162</td>\n",
       "    </tr>\n",
       "    <tr>\n",
       "      <th>2</th>\n",
       "      <td>17.500</td>\n",
       "      <td>Low Fat</td>\n",
       "      <td>0.129461</td>\n",
       "      <td>Meat</td>\n",
       "      <td>141.6180</td>\n",
       "      <td>Medium</td>\n",
       "      <td>Tier 1</td>\n",
       "      <td>2.601398</td>\n",
       "    </tr>\n",
       "    <tr>\n",
       "      <th>3</th>\n",
       "      <td>19.200</td>\n",
       "      <td>Regular</td>\n",
       "      <td>0.000000</td>\n",
       "      <td>Fruits and Vegetables</td>\n",
       "      <td>182.0950</td>\n",
       "      <td>12.6</td>\n",
       "      <td>Tier 3</td>\n",
       "      <td>2.280825</td>\n",
       "    </tr>\n",
       "    <tr>\n",
       "      <th>4</th>\n",
       "      <td>8.930</td>\n",
       "      <td>Low Fat</td>\n",
       "      <td>0.000000</td>\n",
       "      <td>Household</td>\n",
       "      <td>53.8614</td>\n",
       "      <td>High</td>\n",
       "      <td>Tier 3</td>\n",
       "      <td>2.369801</td>\n",
       "    </tr>\n",
       "    <tr>\n",
       "      <th>...</th>\n",
       "      <td>...</td>\n",
       "      <td>...</td>\n",
       "      <td>...</td>\n",
       "      <td>...</td>\n",
       "      <td>...</td>\n",
       "      <td>...</td>\n",
       "      <td>...</td>\n",
       "      <td>...</td>\n",
       "    </tr>\n",
       "    <tr>\n",
       "      <th>8518</th>\n",
       "      <td>6.865</td>\n",
       "      <td>Low Fat</td>\n",
       "      <td>0.238293</td>\n",
       "      <td>Snack Foods</td>\n",
       "      <td>214.5218</td>\n",
       "      <td>High</td>\n",
       "      <td>Tier 3</td>\n",
       "      <td>2.694474</td>\n",
       "    </tr>\n",
       "    <tr>\n",
       "      <th>8519</th>\n",
       "      <td>8.380</td>\n",
       "      <td>Regular</td>\n",
       "      <td>0.216754</td>\n",
       "      <td>Baking Goods</td>\n",
       "      <td>108.1570</td>\n",
       "      <td>12.6</td>\n",
       "      <td>Tier 2</td>\n",
       "      <td>2.200264</td>\n",
       "    </tr>\n",
       "    <tr>\n",
       "      <th>8520</th>\n",
       "      <td>10.600</td>\n",
       "      <td>Low Fat</td>\n",
       "      <td>0.187580</td>\n",
       "      <td>Health and Hygiene</td>\n",
       "      <td>85.1224</td>\n",
       "      <td>Small</td>\n",
       "      <td>Tier 2</td>\n",
       "      <td>2.424294</td>\n",
       "    </tr>\n",
       "    <tr>\n",
       "      <th>8521</th>\n",
       "      <td>7.210</td>\n",
       "      <td>Regular</td>\n",
       "      <td>0.381078</td>\n",
       "      <td>Snack Foods</td>\n",
       "      <td>103.1332</td>\n",
       "      <td>Medium</td>\n",
       "      <td>Tier 3</td>\n",
       "      <td>2.560160</td>\n",
       "    </tr>\n",
       "    <tr>\n",
       "      <th>8522</th>\n",
       "      <td>14.800</td>\n",
       "      <td>Low Fat</td>\n",
       "      <td>0.211845</td>\n",
       "      <td>Soft Drinks</td>\n",
       "      <td>75.4670</td>\n",
       "      <td>Small</td>\n",
       "      <td>Tier 1</td>\n",
       "      <td>2.293534</td>\n",
       "    </tr>\n",
       "  </tbody>\n",
       "</table>\n",
       "<p>8523 rows × 8 columns</p>\n",
       "</div>"
      ],
      "text/plain": [
       "      Item_Weight Item_Fat_Content  Item_Visibility              Item_Type  \\\n",
       "0           9.300          Low Fat         0.126678                  Dairy   \n",
       "1           5.920          Regular         0.138846            Soft Drinks   \n",
       "2          17.500          Low Fat         0.129461                   Meat   \n",
       "3          19.200          Regular         0.000000  Fruits and Vegetables   \n",
       "4           8.930          Low Fat         0.000000              Household   \n",
       "...           ...              ...              ...                    ...   \n",
       "8518        6.865          Low Fat         0.238293            Snack Foods   \n",
       "8519        8.380          Regular         0.216754           Baking Goods   \n",
       "8520       10.600          Low Fat         0.187580     Health and Hygiene   \n",
       "8521        7.210          Regular         0.381078            Snack Foods   \n",
       "8522       14.800          Low Fat         0.211845            Soft Drinks   \n",
       "\n",
       "      Item_MRP Outlet_Size Outlet_Location_Type  Item_Outlet_Sales  \n",
       "0     249.8092      Medium               Tier 1           2.796007  \n",
       "1      48.2692      Medium               Tier 3           2.142162  \n",
       "2     141.6180      Medium               Tier 1           2.601398  \n",
       "3     182.0950        12.6               Tier 3           2.280825  \n",
       "4      53.8614        High               Tier 3           2.369801  \n",
       "...        ...         ...                  ...                ...  \n",
       "8518  214.5218        High               Tier 3           2.694474  \n",
       "8519  108.1570        12.6               Tier 2           2.200264  \n",
       "8520   85.1224       Small               Tier 2           2.424294  \n",
       "8521  103.1332      Medium               Tier 3           2.560160  \n",
       "8522   75.4670       Small               Tier 1           2.293534  \n",
       "\n",
       "[8523 rows x 8 columns]"
      ]
     },
     "execution_count": 127,
     "metadata": {},
     "output_type": "execute_result"
    }
   ],
   "source": [
    "df1.drop(columns='Item_Identifier',inplace=True)\n",
    "df1.drop(columns='Outlet_Identifier',inplace=True)\n",
    "df1.drop(columns='Outlet_Type',inplace=True)\n",
    "df1.drop(columns='Outlet_Establishment_Year',inplace=True)\n",
    "df1"
   ]
  },
  {
   "cell_type": "markdown",
   "id": "e20dd458",
   "metadata": {},
   "source": [
    "### Encoding Categorical Variables\n",
    "\n",
    "\n",
    "1). Label encoding simply means converting each category in a variable to a number. It is more suitable for ordinal variables — categorical variables with some order.\n",
    "2). In One hot encoding, each category of a categorical variable is converted into a new binary column (1/0)."
   ]
  },
  {
   "cell_type": "code",
   "execution_count": 128,
   "id": "ae528e64",
   "metadata": {},
   "outputs": [],
   "source": [
    "df1=pd.get_dummies(df1,columns=['Item_Fat_Content','Item_Type','Outlet_Size','Outlet_Location_Type'],drop_first=True)"
   ]
  },
  {
   "cell_type": "code",
   "execution_count": 129,
   "id": "a054f2ed",
   "metadata": {},
   "outputs": [
    {
     "data": {
      "text/html": [
       "<div>\n",
       "<style scoped>\n",
       "    .dataframe tbody tr th:only-of-type {\n",
       "        vertical-align: middle;\n",
       "    }\n",
       "\n",
       "    .dataframe tbody tr th {\n",
       "        vertical-align: top;\n",
       "    }\n",
       "\n",
       "    .dataframe thead th {\n",
       "        text-align: right;\n",
       "    }\n",
       "</style>\n",
       "<table border=\"1\" class=\"dataframe\">\n",
       "  <thead>\n",
       "    <tr style=\"text-align: right;\">\n",
       "      <th></th>\n",
       "      <th>Item_Weight</th>\n",
       "      <th>Item_Visibility</th>\n",
       "      <th>Item_MRP</th>\n",
       "      <th>Item_Outlet_Sales</th>\n",
       "      <th>Item_Fat_Content_Low Fat</th>\n",
       "      <th>Item_Fat_Content_Regular</th>\n",
       "      <th>Item_Fat_Content_low fat</th>\n",
       "      <th>Item_Fat_Content_reg</th>\n",
       "      <th>Item_Type_Breads</th>\n",
       "      <th>Item_Type_Breakfast</th>\n",
       "      <th>...</th>\n",
       "      <th>Item_Type_Others</th>\n",
       "      <th>Item_Type_Seafood</th>\n",
       "      <th>Item_Type_Snack Foods</th>\n",
       "      <th>Item_Type_Soft Drinks</th>\n",
       "      <th>Item_Type_Starchy Foods</th>\n",
       "      <th>Outlet_Size_High</th>\n",
       "      <th>Outlet_Size_Medium</th>\n",
       "      <th>Outlet_Size_Small</th>\n",
       "      <th>Outlet_Location_Type_Tier 2</th>\n",
       "      <th>Outlet_Location_Type_Tier 3</th>\n",
       "    </tr>\n",
       "  </thead>\n",
       "  <tbody>\n",
       "    <tr>\n",
       "      <th>0</th>\n",
       "      <td>9.300</td>\n",
       "      <td>0.126678</td>\n",
       "      <td>249.8092</td>\n",
       "      <td>2.796007</td>\n",
       "      <td>1</td>\n",
       "      <td>0</td>\n",
       "      <td>0</td>\n",
       "      <td>0</td>\n",
       "      <td>0</td>\n",
       "      <td>0</td>\n",
       "      <td>...</td>\n",
       "      <td>0</td>\n",
       "      <td>0</td>\n",
       "      <td>0</td>\n",
       "      <td>0</td>\n",
       "      <td>0</td>\n",
       "      <td>0</td>\n",
       "      <td>1</td>\n",
       "      <td>0</td>\n",
       "      <td>0</td>\n",
       "      <td>0</td>\n",
       "    </tr>\n",
       "    <tr>\n",
       "      <th>1</th>\n",
       "      <td>5.920</td>\n",
       "      <td>0.138846</td>\n",
       "      <td>48.2692</td>\n",
       "      <td>2.142162</td>\n",
       "      <td>0</td>\n",
       "      <td>1</td>\n",
       "      <td>0</td>\n",
       "      <td>0</td>\n",
       "      <td>0</td>\n",
       "      <td>0</td>\n",
       "      <td>...</td>\n",
       "      <td>0</td>\n",
       "      <td>0</td>\n",
       "      <td>0</td>\n",
       "      <td>1</td>\n",
       "      <td>0</td>\n",
       "      <td>0</td>\n",
       "      <td>1</td>\n",
       "      <td>0</td>\n",
       "      <td>0</td>\n",
       "      <td>1</td>\n",
       "    </tr>\n",
       "    <tr>\n",
       "      <th>2</th>\n",
       "      <td>17.500</td>\n",
       "      <td>0.129461</td>\n",
       "      <td>141.6180</td>\n",
       "      <td>2.601398</td>\n",
       "      <td>1</td>\n",
       "      <td>0</td>\n",
       "      <td>0</td>\n",
       "      <td>0</td>\n",
       "      <td>0</td>\n",
       "      <td>0</td>\n",
       "      <td>...</td>\n",
       "      <td>0</td>\n",
       "      <td>0</td>\n",
       "      <td>0</td>\n",
       "      <td>0</td>\n",
       "      <td>0</td>\n",
       "      <td>0</td>\n",
       "      <td>1</td>\n",
       "      <td>0</td>\n",
       "      <td>0</td>\n",
       "      <td>0</td>\n",
       "    </tr>\n",
       "    <tr>\n",
       "      <th>3</th>\n",
       "      <td>19.200</td>\n",
       "      <td>0.000000</td>\n",
       "      <td>182.0950</td>\n",
       "      <td>2.280825</td>\n",
       "      <td>0</td>\n",
       "      <td>1</td>\n",
       "      <td>0</td>\n",
       "      <td>0</td>\n",
       "      <td>0</td>\n",
       "      <td>0</td>\n",
       "      <td>...</td>\n",
       "      <td>0</td>\n",
       "      <td>0</td>\n",
       "      <td>0</td>\n",
       "      <td>0</td>\n",
       "      <td>0</td>\n",
       "      <td>0</td>\n",
       "      <td>0</td>\n",
       "      <td>0</td>\n",
       "      <td>0</td>\n",
       "      <td>1</td>\n",
       "    </tr>\n",
       "    <tr>\n",
       "      <th>4</th>\n",
       "      <td>8.930</td>\n",
       "      <td>0.000000</td>\n",
       "      <td>53.8614</td>\n",
       "      <td>2.369801</td>\n",
       "      <td>1</td>\n",
       "      <td>0</td>\n",
       "      <td>0</td>\n",
       "      <td>0</td>\n",
       "      <td>0</td>\n",
       "      <td>0</td>\n",
       "      <td>...</td>\n",
       "      <td>0</td>\n",
       "      <td>0</td>\n",
       "      <td>0</td>\n",
       "      <td>0</td>\n",
       "      <td>0</td>\n",
       "      <td>1</td>\n",
       "      <td>0</td>\n",
       "      <td>0</td>\n",
       "      <td>0</td>\n",
       "      <td>1</td>\n",
       "    </tr>\n",
       "    <tr>\n",
       "      <th>...</th>\n",
       "      <td>...</td>\n",
       "      <td>...</td>\n",
       "      <td>...</td>\n",
       "      <td>...</td>\n",
       "      <td>...</td>\n",
       "      <td>...</td>\n",
       "      <td>...</td>\n",
       "      <td>...</td>\n",
       "      <td>...</td>\n",
       "      <td>...</td>\n",
       "      <td>...</td>\n",
       "      <td>...</td>\n",
       "      <td>...</td>\n",
       "      <td>...</td>\n",
       "      <td>...</td>\n",
       "      <td>...</td>\n",
       "      <td>...</td>\n",
       "      <td>...</td>\n",
       "      <td>...</td>\n",
       "      <td>...</td>\n",
       "      <td>...</td>\n",
       "    </tr>\n",
       "    <tr>\n",
       "      <th>8518</th>\n",
       "      <td>6.865</td>\n",
       "      <td>0.238293</td>\n",
       "      <td>214.5218</td>\n",
       "      <td>2.694474</td>\n",
       "      <td>1</td>\n",
       "      <td>0</td>\n",
       "      <td>0</td>\n",
       "      <td>0</td>\n",
       "      <td>0</td>\n",
       "      <td>0</td>\n",
       "      <td>...</td>\n",
       "      <td>0</td>\n",
       "      <td>0</td>\n",
       "      <td>1</td>\n",
       "      <td>0</td>\n",
       "      <td>0</td>\n",
       "      <td>1</td>\n",
       "      <td>0</td>\n",
       "      <td>0</td>\n",
       "      <td>0</td>\n",
       "      <td>1</td>\n",
       "    </tr>\n",
       "    <tr>\n",
       "      <th>8519</th>\n",
       "      <td>8.380</td>\n",
       "      <td>0.216754</td>\n",
       "      <td>108.1570</td>\n",
       "      <td>2.200264</td>\n",
       "      <td>0</td>\n",
       "      <td>1</td>\n",
       "      <td>0</td>\n",
       "      <td>0</td>\n",
       "      <td>0</td>\n",
       "      <td>0</td>\n",
       "      <td>...</td>\n",
       "      <td>0</td>\n",
       "      <td>0</td>\n",
       "      <td>0</td>\n",
       "      <td>0</td>\n",
       "      <td>0</td>\n",
       "      <td>0</td>\n",
       "      <td>0</td>\n",
       "      <td>0</td>\n",
       "      <td>1</td>\n",
       "      <td>0</td>\n",
       "    </tr>\n",
       "    <tr>\n",
       "      <th>8520</th>\n",
       "      <td>10.600</td>\n",
       "      <td>0.187580</td>\n",
       "      <td>85.1224</td>\n",
       "      <td>2.424294</td>\n",
       "      <td>1</td>\n",
       "      <td>0</td>\n",
       "      <td>0</td>\n",
       "      <td>0</td>\n",
       "      <td>0</td>\n",
       "      <td>0</td>\n",
       "      <td>...</td>\n",
       "      <td>0</td>\n",
       "      <td>0</td>\n",
       "      <td>0</td>\n",
       "      <td>0</td>\n",
       "      <td>0</td>\n",
       "      <td>0</td>\n",
       "      <td>0</td>\n",
       "      <td>1</td>\n",
       "      <td>1</td>\n",
       "      <td>0</td>\n",
       "    </tr>\n",
       "    <tr>\n",
       "      <th>8521</th>\n",
       "      <td>7.210</td>\n",
       "      <td>0.381078</td>\n",
       "      <td>103.1332</td>\n",
       "      <td>2.560160</td>\n",
       "      <td>0</td>\n",
       "      <td>1</td>\n",
       "      <td>0</td>\n",
       "      <td>0</td>\n",
       "      <td>0</td>\n",
       "      <td>0</td>\n",
       "      <td>...</td>\n",
       "      <td>0</td>\n",
       "      <td>0</td>\n",
       "      <td>1</td>\n",
       "      <td>0</td>\n",
       "      <td>0</td>\n",
       "      <td>0</td>\n",
       "      <td>1</td>\n",
       "      <td>0</td>\n",
       "      <td>0</td>\n",
       "      <td>1</td>\n",
       "    </tr>\n",
       "    <tr>\n",
       "      <th>8522</th>\n",
       "      <td>14.800</td>\n",
       "      <td>0.211845</td>\n",
       "      <td>75.4670</td>\n",
       "      <td>2.293534</td>\n",
       "      <td>1</td>\n",
       "      <td>0</td>\n",
       "      <td>0</td>\n",
       "      <td>0</td>\n",
       "      <td>0</td>\n",
       "      <td>0</td>\n",
       "      <td>...</td>\n",
       "      <td>0</td>\n",
       "      <td>0</td>\n",
       "      <td>0</td>\n",
       "      <td>1</td>\n",
       "      <td>0</td>\n",
       "      <td>0</td>\n",
       "      <td>0</td>\n",
       "      <td>1</td>\n",
       "      <td>0</td>\n",
       "      <td>0</td>\n",
       "    </tr>\n",
       "  </tbody>\n",
       "</table>\n",
       "<p>8523 rows × 28 columns</p>\n",
       "</div>"
      ],
      "text/plain": [
       "      Item_Weight  Item_Visibility  Item_MRP  Item_Outlet_Sales  \\\n",
       "0           9.300         0.126678  249.8092           2.796007   \n",
       "1           5.920         0.138846   48.2692           2.142162   \n",
       "2          17.500         0.129461  141.6180           2.601398   \n",
       "3          19.200         0.000000  182.0950           2.280825   \n",
       "4           8.930         0.000000   53.8614           2.369801   \n",
       "...           ...              ...       ...                ...   \n",
       "8518        6.865         0.238293  214.5218           2.694474   \n",
       "8519        8.380         0.216754  108.1570           2.200264   \n",
       "8520       10.600         0.187580   85.1224           2.424294   \n",
       "8521        7.210         0.381078  103.1332           2.560160   \n",
       "8522       14.800         0.211845   75.4670           2.293534   \n",
       "\n",
       "      Item_Fat_Content_Low Fat  Item_Fat_Content_Regular  \\\n",
       "0                            1                         0   \n",
       "1                            0                         1   \n",
       "2                            1                         0   \n",
       "3                            0                         1   \n",
       "4                            1                         0   \n",
       "...                        ...                       ...   \n",
       "8518                         1                         0   \n",
       "8519                         0                         1   \n",
       "8520                         1                         0   \n",
       "8521                         0                         1   \n",
       "8522                         1                         0   \n",
       "\n",
       "      Item_Fat_Content_low fat  Item_Fat_Content_reg  Item_Type_Breads  \\\n",
       "0                            0                     0                 0   \n",
       "1                            0                     0                 0   \n",
       "2                            0                     0                 0   \n",
       "3                            0                     0                 0   \n",
       "4                            0                     0                 0   \n",
       "...                        ...                   ...               ...   \n",
       "8518                         0                     0                 0   \n",
       "8519                         0                     0                 0   \n",
       "8520                         0                     0                 0   \n",
       "8521                         0                     0                 0   \n",
       "8522                         0                     0                 0   \n",
       "\n",
       "      Item_Type_Breakfast  ...  Item_Type_Others  Item_Type_Seafood  \\\n",
       "0                       0  ...                 0                  0   \n",
       "1                       0  ...                 0                  0   \n",
       "2                       0  ...                 0                  0   \n",
       "3                       0  ...                 0                  0   \n",
       "4                       0  ...                 0                  0   \n",
       "...                   ...  ...               ...                ...   \n",
       "8518                    0  ...                 0                  0   \n",
       "8519                    0  ...                 0                  0   \n",
       "8520                    0  ...                 0                  0   \n",
       "8521                    0  ...                 0                  0   \n",
       "8522                    0  ...                 0                  0   \n",
       "\n",
       "      Item_Type_Snack Foods  Item_Type_Soft Drinks  Item_Type_Starchy Foods  \\\n",
       "0                         0                      0                        0   \n",
       "1                         0                      1                        0   \n",
       "2                         0                      0                        0   \n",
       "3                         0                      0                        0   \n",
       "4                         0                      0                        0   \n",
       "...                     ...                    ...                      ...   \n",
       "8518                      1                      0                        0   \n",
       "8519                      0                      0                        0   \n",
       "8520                      0                      0                        0   \n",
       "8521                      1                      0                        0   \n",
       "8522                      0                      1                        0   \n",
       "\n",
       "      Outlet_Size_High  Outlet_Size_Medium  Outlet_Size_Small  \\\n",
       "0                    0                   1                  0   \n",
       "1                    0                   1                  0   \n",
       "2                    0                   1                  0   \n",
       "3                    0                   0                  0   \n",
       "4                    1                   0                  0   \n",
       "...                ...                 ...                ...   \n",
       "8518                 1                   0                  0   \n",
       "8519                 0                   0                  0   \n",
       "8520                 0                   0                  1   \n",
       "8521                 0                   1                  0   \n",
       "8522                 0                   0                  1   \n",
       "\n",
       "      Outlet_Location_Type_Tier 2  Outlet_Location_Type_Tier 3  \n",
       "0                               0                            0  \n",
       "1                               0                            1  \n",
       "2                               0                            0  \n",
       "3                               0                            1  \n",
       "4                               0                            1  \n",
       "...                           ...                          ...  \n",
       "8518                            0                            1  \n",
       "8519                            1                            0  \n",
       "8520                            1                            0  \n",
       "8521                            0                            1  \n",
       "8522                            0                            0  \n",
       "\n",
       "[8523 rows x 28 columns]"
      ]
     },
     "execution_count": 129,
     "metadata": {},
     "output_type": "execute_result"
    }
   ],
   "source": [
    "df1"
   ]
  },
  {
   "cell_type": "markdown",
   "id": "4504fbb1",
   "metadata": {},
   "source": [
    "##  Independent variables"
   ]
  },
  {
   "cell_type": "code",
   "execution_count": 135,
   "id": "5475081e",
   "metadata": {},
   "outputs": [
    {
     "data": {
      "text/html": [
       "<div>\n",
       "<style scoped>\n",
       "    .dataframe tbody tr th:only-of-type {\n",
       "        vertical-align: middle;\n",
       "    }\n",
       "\n",
       "    .dataframe tbody tr th {\n",
       "        vertical-align: top;\n",
       "    }\n",
       "\n",
       "    .dataframe thead th {\n",
       "        text-align: right;\n",
       "    }\n",
       "</style>\n",
       "<table border=\"1\" class=\"dataframe\">\n",
       "  <thead>\n",
       "    <tr style=\"text-align: right;\">\n",
       "      <th></th>\n",
       "      <th>Item_Weight</th>\n",
       "      <th>Item_Visibility</th>\n",
       "      <th>Item_MRP</th>\n",
       "      <th>Item_Fat_Content_Low Fat</th>\n",
       "      <th>Item_Fat_Content_Regular</th>\n",
       "      <th>Item_Fat_Content_low fat</th>\n",
       "      <th>Item_Fat_Content_reg</th>\n",
       "      <th>Item_Type_Breads</th>\n",
       "      <th>Item_Type_Breakfast</th>\n",
       "      <th>Item_Type_Canned</th>\n",
       "      <th>...</th>\n",
       "      <th>Item_Type_Others</th>\n",
       "      <th>Item_Type_Seafood</th>\n",
       "      <th>Item_Type_Snack Foods</th>\n",
       "      <th>Item_Type_Soft Drinks</th>\n",
       "      <th>Item_Type_Starchy Foods</th>\n",
       "      <th>Outlet_Size_High</th>\n",
       "      <th>Outlet_Size_Medium</th>\n",
       "      <th>Outlet_Size_Small</th>\n",
       "      <th>Outlet_Location_Type_Tier 2</th>\n",
       "      <th>Outlet_Location_Type_Tier 3</th>\n",
       "    </tr>\n",
       "  </thead>\n",
       "  <tbody>\n",
       "    <tr>\n",
       "      <th>0</th>\n",
       "      <td>9.30</td>\n",
       "      <td>0.126678</td>\n",
       "      <td>249.8092</td>\n",
       "      <td>1</td>\n",
       "      <td>0</td>\n",
       "      <td>0</td>\n",
       "      <td>0</td>\n",
       "      <td>0</td>\n",
       "      <td>0</td>\n",
       "      <td>0</td>\n",
       "      <td>...</td>\n",
       "      <td>0</td>\n",
       "      <td>0</td>\n",
       "      <td>0</td>\n",
       "      <td>0</td>\n",
       "      <td>0</td>\n",
       "      <td>0</td>\n",
       "      <td>1</td>\n",
       "      <td>0</td>\n",
       "      <td>0</td>\n",
       "      <td>0</td>\n",
       "    </tr>\n",
       "    <tr>\n",
       "      <th>1</th>\n",
       "      <td>5.92</td>\n",
       "      <td>0.138846</td>\n",
       "      <td>48.2692</td>\n",
       "      <td>0</td>\n",
       "      <td>1</td>\n",
       "      <td>0</td>\n",
       "      <td>0</td>\n",
       "      <td>0</td>\n",
       "      <td>0</td>\n",
       "      <td>0</td>\n",
       "      <td>...</td>\n",
       "      <td>0</td>\n",
       "      <td>0</td>\n",
       "      <td>0</td>\n",
       "      <td>1</td>\n",
       "      <td>0</td>\n",
       "      <td>0</td>\n",
       "      <td>1</td>\n",
       "      <td>0</td>\n",
       "      <td>0</td>\n",
       "      <td>1</td>\n",
       "    </tr>\n",
       "    <tr>\n",
       "      <th>2</th>\n",
       "      <td>17.50</td>\n",
       "      <td>0.129461</td>\n",
       "      <td>141.6180</td>\n",
       "      <td>1</td>\n",
       "      <td>0</td>\n",
       "      <td>0</td>\n",
       "      <td>0</td>\n",
       "      <td>0</td>\n",
       "      <td>0</td>\n",
       "      <td>0</td>\n",
       "      <td>...</td>\n",
       "      <td>0</td>\n",
       "      <td>0</td>\n",
       "      <td>0</td>\n",
       "      <td>0</td>\n",
       "      <td>0</td>\n",
       "      <td>0</td>\n",
       "      <td>1</td>\n",
       "      <td>0</td>\n",
       "      <td>0</td>\n",
       "      <td>0</td>\n",
       "    </tr>\n",
       "    <tr>\n",
       "      <th>3</th>\n",
       "      <td>19.20</td>\n",
       "      <td>0.000000</td>\n",
       "      <td>182.0950</td>\n",
       "      <td>0</td>\n",
       "      <td>1</td>\n",
       "      <td>0</td>\n",
       "      <td>0</td>\n",
       "      <td>0</td>\n",
       "      <td>0</td>\n",
       "      <td>0</td>\n",
       "      <td>...</td>\n",
       "      <td>0</td>\n",
       "      <td>0</td>\n",
       "      <td>0</td>\n",
       "      <td>0</td>\n",
       "      <td>0</td>\n",
       "      <td>0</td>\n",
       "      <td>0</td>\n",
       "      <td>0</td>\n",
       "      <td>0</td>\n",
       "      <td>1</td>\n",
       "    </tr>\n",
       "    <tr>\n",
       "      <th>4</th>\n",
       "      <td>8.93</td>\n",
       "      <td>0.000000</td>\n",
       "      <td>53.8614</td>\n",
       "      <td>1</td>\n",
       "      <td>0</td>\n",
       "      <td>0</td>\n",
       "      <td>0</td>\n",
       "      <td>0</td>\n",
       "      <td>0</td>\n",
       "      <td>0</td>\n",
       "      <td>...</td>\n",
       "      <td>0</td>\n",
       "      <td>0</td>\n",
       "      <td>0</td>\n",
       "      <td>0</td>\n",
       "      <td>0</td>\n",
       "      <td>1</td>\n",
       "      <td>0</td>\n",
       "      <td>0</td>\n",
       "      <td>0</td>\n",
       "      <td>1</td>\n",
       "    </tr>\n",
       "  </tbody>\n",
       "</table>\n",
       "<p>5 rows × 27 columns</p>\n",
       "</div>"
      ],
      "text/plain": [
       "   Item_Weight  Item_Visibility  Item_MRP  Item_Fat_Content_Low Fat  \\\n",
       "0         9.30         0.126678  249.8092                         1   \n",
       "1         5.92         0.138846   48.2692                         0   \n",
       "2        17.50         0.129461  141.6180                         1   \n",
       "3        19.20         0.000000  182.0950                         0   \n",
       "4         8.93         0.000000   53.8614                         1   \n",
       "\n",
       "   Item_Fat_Content_Regular  Item_Fat_Content_low fat  Item_Fat_Content_reg  \\\n",
       "0                         0                         0                     0   \n",
       "1                         1                         0                     0   \n",
       "2                         0                         0                     0   \n",
       "3                         1                         0                     0   \n",
       "4                         0                         0                     0   \n",
       "\n",
       "   Item_Type_Breads  Item_Type_Breakfast  Item_Type_Canned  ...  \\\n",
       "0                 0                    0                 0  ...   \n",
       "1                 0                    0                 0  ...   \n",
       "2                 0                    0                 0  ...   \n",
       "3                 0                    0                 0  ...   \n",
       "4                 0                    0                 0  ...   \n",
       "\n",
       "   Item_Type_Others  Item_Type_Seafood  Item_Type_Snack Foods  \\\n",
       "0                 0                  0                      0   \n",
       "1                 0                  0                      0   \n",
       "2                 0                  0                      0   \n",
       "3                 0                  0                      0   \n",
       "4                 0                  0                      0   \n",
       "\n",
       "   Item_Type_Soft Drinks  Item_Type_Starchy Foods  Outlet_Size_High  \\\n",
       "0                      0                        0                 0   \n",
       "1                      1                        0                 0   \n",
       "2                      0                        0                 0   \n",
       "3                      0                        0                 0   \n",
       "4                      0                        0                 1   \n",
       "\n",
       "   Outlet_Size_Medium  Outlet_Size_Small  Outlet_Location_Type_Tier 2  \\\n",
       "0                   1                  0                            0   \n",
       "1                   1                  0                            0   \n",
       "2                   1                  0                            0   \n",
       "3                   0                  0                            0   \n",
       "4                   0                  0                            0   \n",
       "\n",
       "   Outlet_Location_Type_Tier 3  \n",
       "0                            0  \n",
       "1                            1  \n",
       "2                            0  \n",
       "3                            1  \n",
       "4                            1  \n",
       "\n",
       "[5 rows x 27 columns]"
      ]
     },
     "execution_count": 135,
     "metadata": {},
     "output_type": "execute_result"
    }
   ],
   "source": [
    "x=df1.loc[:,['Item_Weight', 'Item_Visibility', 'Item_MRP', \n",
    "       'Item_Fat_Content_Low Fat', 'Item_Fat_Content_Regular',\n",
    "       'Item_Fat_Content_low fat', 'Item_Fat_Content_reg', 'Item_Type_Breads',\n",
    "       'Item_Type_Breakfast', 'Item_Type_Canned', 'Item_Type_Dairy',\n",
    "       'Item_Type_Frozen Foods', 'Item_Type_Fruits and Vegetables',\n",
    "       'Item_Type_Hard Drinks', 'Item_Type_Health and Hygiene',\n",
    "       'Item_Type_Household', 'Item_Type_Meat', 'Item_Type_Others',\n",
    "       'Item_Type_Seafood', 'Item_Type_Snack Foods', 'Item_Type_Soft Drinks',\n",
    "       'Item_Type_Starchy Foods', 'Outlet_Size_High', 'Outlet_Size_Medium',\n",
    "       'Outlet_Size_Small', 'Outlet_Location_Type_Tier 2',\n",
    "       'Outlet_Location_Type_Tier 3']]\n",
    "x.head()"
   ]
  },
  {
   "cell_type": "markdown",
   "id": "4dd75de2",
   "metadata": {},
   "source": [
    "## dependent variable "
   ]
  },
  {
   "cell_type": "code",
   "execution_count": 136,
   "id": "b9c91da7",
   "metadata": {},
   "outputs": [
    {
     "data": {
      "text/html": [
       "<div>\n",
       "<style scoped>\n",
       "    .dataframe tbody tr th:only-of-type {\n",
       "        vertical-align: middle;\n",
       "    }\n",
       "\n",
       "    .dataframe tbody tr th {\n",
       "        vertical-align: top;\n",
       "    }\n",
       "\n",
       "    .dataframe thead th {\n",
       "        text-align: right;\n",
       "    }\n",
       "</style>\n",
       "<table border=\"1\" class=\"dataframe\">\n",
       "  <thead>\n",
       "    <tr style=\"text-align: right;\">\n",
       "      <th></th>\n",
       "      <th>Item_Outlet_Sales</th>\n",
       "    </tr>\n",
       "  </thead>\n",
       "  <tbody>\n",
       "    <tr>\n",
       "      <th>0</th>\n",
       "      <td>2.796007</td>\n",
       "    </tr>\n",
       "    <tr>\n",
       "      <th>1</th>\n",
       "      <td>2.142162</td>\n",
       "    </tr>\n",
       "    <tr>\n",
       "      <th>2</th>\n",
       "      <td>2.601398</td>\n",
       "    </tr>\n",
       "    <tr>\n",
       "      <th>3</th>\n",
       "      <td>2.280825</td>\n",
       "    </tr>\n",
       "    <tr>\n",
       "      <th>4</th>\n",
       "      <td>2.369801</td>\n",
       "    </tr>\n",
       "  </tbody>\n",
       "</table>\n",
       "</div>"
      ],
      "text/plain": [
       "   Item_Outlet_Sales\n",
       "0           2.796007\n",
       "1           2.142162\n",
       "2           2.601398\n",
       "3           2.280825\n",
       "4           2.369801"
      ]
     },
     "execution_count": 136,
     "metadata": {},
     "output_type": "execute_result"
    }
   ],
   "source": [
    "y=df1.loc[:,['Item_Outlet_Sales']]\n",
    "y.head()"
   ]
  },
  {
   "cell_type": "markdown",
   "id": "f388759e",
   "metadata": {},
   "source": [
    "## Scaling the Dataset"
   ]
  },
  {
   "cell_type": "code",
   "execution_count": 137,
   "id": "a27c6339",
   "metadata": {},
   "outputs": [],
   "source": [
    "from sklearn.preprocessing import StandardScaler\n",
    "scaler = StandardScaler()\n",
    "x1 = scaler.fit_transform(x)\n",
    "x = pd.DataFrame(data = x1, columns = x.columns)"
   ]
  },
  {
   "cell_type": "markdown",
   "id": "89eb7b2d",
   "metadata": {},
   "source": [
    "## Train - Test Split "
   ]
  },
  {
   "cell_type": "code",
   "execution_count": 138,
   "id": "e0726e60",
   "metadata": {},
   "outputs": [
    {
     "name": "stdout",
     "output_type": "stream",
     "text": [
      "(6818, 27) (1705, 27) (6818, 1) (1705, 1)\n"
     ]
    }
   ],
   "source": [
    "from sklearn.model_selection import train_test_split\n",
    "x_train,x_test,y_train,y_test = train_test_split(x,y,test_size=0.20,random_state = 42)\n",
    "print(x_train.shape,x_test.shape,y_train.shape,y_test.shape)"
   ]
  },
  {
   "cell_type": "code",
   "execution_count": 139,
   "id": "1b639189",
   "metadata": {},
   "outputs": [
    {
     "data": {
      "text/html": [
       "<div>\n",
       "<style scoped>\n",
       "    .dataframe tbody tr th:only-of-type {\n",
       "        vertical-align: middle;\n",
       "    }\n",
       "\n",
       "    .dataframe tbody tr th {\n",
       "        vertical-align: top;\n",
       "    }\n",
       "\n",
       "    .dataframe thead th {\n",
       "        text-align: right;\n",
       "    }\n",
       "</style>\n",
       "<table border=\"1\" class=\"dataframe\">\n",
       "  <thead>\n",
       "    <tr style=\"text-align: right;\">\n",
       "      <th></th>\n",
       "      <th>Item_Weight</th>\n",
       "      <th>Item_Visibility</th>\n",
       "      <th>Item_MRP</th>\n",
       "      <th>Item_Fat_Content_Low Fat</th>\n",
       "      <th>Item_Fat_Content_Regular</th>\n",
       "      <th>Item_Fat_Content_low fat</th>\n",
       "      <th>Item_Fat_Content_reg</th>\n",
       "      <th>Item_Type_Breads</th>\n",
       "      <th>Item_Type_Breakfast</th>\n",
       "      <th>Item_Type_Canned</th>\n",
       "      <th>...</th>\n",
       "      <th>Item_Type_Others</th>\n",
       "      <th>Item_Type_Seafood</th>\n",
       "      <th>Item_Type_Snack Foods</th>\n",
       "      <th>Item_Type_Soft Drinks</th>\n",
       "      <th>Item_Type_Starchy Foods</th>\n",
       "      <th>Outlet_Size_High</th>\n",
       "      <th>Outlet_Size_Medium</th>\n",
       "      <th>Outlet_Size_Small</th>\n",
       "      <th>Outlet_Location_Type_Tier 2</th>\n",
       "      <th>Outlet_Location_Type_Tier 3</th>\n",
       "    </tr>\n",
       "  </thead>\n",
       "  <tbody>\n",
       "    <tr>\n",
       "      <th>549</th>\n",
       "      <td>-0.783872</td>\n",
       "      <td>-0.429444</td>\n",
       "      <td>0.487415</td>\n",
       "      <td>-1.217352</td>\n",
       "      <td>1.396480</td>\n",
       "      <td>-0.115395</td>\n",
       "      <td>-0.117977</td>\n",
       "      <td>-0.174193</td>\n",
       "      <td>-0.114346</td>\n",
       "      <td>-0.287094</td>\n",
       "      <td>...</td>\n",
       "      <td>-0.142232</td>\n",
       "      <td>-0.086982</td>\n",
       "      <td>-0.404805</td>\n",
       "      <td>-0.234708</td>\n",
       "      <td>-0.132935</td>\n",
       "      <td>-0.350395</td>\n",
       "      <td>1.432326</td>\n",
       "      <td>-0.623893</td>\n",
       "      <td>-0.696678</td>\n",
       "      <td>-0.804732</td>\n",
       "    </tr>\n",
       "    <tr>\n",
       "      <th>7757</th>\n",
       "      <td>1.227014</td>\n",
       "      <td>-0.147499</td>\n",
       "      <td>0.474526</td>\n",
       "      <td>0.821455</td>\n",
       "      <td>-0.716086</td>\n",
       "      <td>-0.115395</td>\n",
       "      <td>-0.117977</td>\n",
       "      <td>-0.174193</td>\n",
       "      <td>-0.114346</td>\n",
       "      <td>-0.287094</td>\n",
       "      <td>...</td>\n",
       "      <td>-0.142232</td>\n",
       "      <td>-0.086982</td>\n",
       "      <td>-0.404805</td>\n",
       "      <td>-0.234708</td>\n",
       "      <td>-0.132935</td>\n",
       "      <td>-0.350395</td>\n",
       "      <td>-0.698165</td>\n",
       "      <td>-0.623893</td>\n",
       "      <td>1.435383</td>\n",
       "      <td>-0.804732</td>\n",
       "    </tr>\n",
       "    <tr>\n",
       "      <th>764</th>\n",
       "      <td>1.132384</td>\n",
       "      <td>0.393243</td>\n",
       "      <td>-0.470081</td>\n",
       "      <td>-1.217352</td>\n",
       "      <td>1.396480</td>\n",
       "      <td>-0.115395</td>\n",
       "      <td>-0.117977</td>\n",
       "      <td>-0.174193</td>\n",
       "      <td>-0.114346</td>\n",
       "      <td>-0.287094</td>\n",
       "      <td>...</td>\n",
       "      <td>-0.142232</td>\n",
       "      <td>-0.086982</td>\n",
       "      <td>-0.404805</td>\n",
       "      <td>-0.234708</td>\n",
       "      <td>-0.132935</td>\n",
       "      <td>-0.350395</td>\n",
       "      <td>-0.698165</td>\n",
       "      <td>1.602840</td>\n",
       "      <td>-0.696678</td>\n",
       "      <td>-0.804732</td>\n",
       "    </tr>\n",
       "    <tr>\n",
       "      <th>6867</th>\n",
       "      <td>-1.061847</td>\n",
       "      <td>-0.568076</td>\n",
       "      <td>-1.595901</td>\n",
       "      <td>0.821455</td>\n",
       "      <td>-0.716086</td>\n",
       "      <td>-0.115395</td>\n",
       "      <td>-0.117977</td>\n",
       "      <td>-0.174193</td>\n",
       "      <td>-0.114346</td>\n",
       "      <td>-0.287094</td>\n",
       "      <td>...</td>\n",
       "      <td>-0.142232</td>\n",
       "      <td>-0.086982</td>\n",
       "      <td>-0.404805</td>\n",
       "      <td>-0.234708</td>\n",
       "      <td>-0.132935</td>\n",
       "      <td>-0.350395</td>\n",
       "      <td>-0.698165</td>\n",
       "      <td>-0.623893</td>\n",
       "      <td>1.435383</td>\n",
       "      <td>-0.804732</td>\n",
       "    </tr>\n",
       "    <tr>\n",
       "      <th>2716</th>\n",
       "      <td>0.008654</td>\n",
       "      <td>1.274379</td>\n",
       "      <td>0.233979</td>\n",
       "      <td>0.821455</td>\n",
       "      <td>-0.716086</td>\n",
       "      <td>-0.115395</td>\n",
       "      <td>-0.117977</td>\n",
       "      <td>-0.174193</td>\n",
       "      <td>-0.114346</td>\n",
       "      <td>-0.287094</td>\n",
       "      <td>...</td>\n",
       "      <td>-0.142232</td>\n",
       "      <td>-0.086982</td>\n",
       "      <td>2.470324</td>\n",
       "      <td>-0.234708</td>\n",
       "      <td>-0.132935</td>\n",
       "      <td>-0.350395</td>\n",
       "      <td>-0.698165</td>\n",
       "      <td>1.602840</td>\n",
       "      <td>-0.696678</td>\n",
       "      <td>-0.804732</td>\n",
       "    </tr>\n",
       "  </tbody>\n",
       "</table>\n",
       "<p>5 rows × 27 columns</p>\n",
       "</div>"
      ],
      "text/plain": [
       "      Item_Weight  Item_Visibility  Item_MRP  Item_Fat_Content_Low Fat  \\\n",
       "549     -0.783872        -0.429444  0.487415                 -1.217352   \n",
       "7757     1.227014        -0.147499  0.474526                  0.821455   \n",
       "764      1.132384         0.393243 -0.470081                 -1.217352   \n",
       "6867    -1.061847        -0.568076 -1.595901                  0.821455   \n",
       "2716     0.008654         1.274379  0.233979                  0.821455   \n",
       "\n",
       "      Item_Fat_Content_Regular  Item_Fat_Content_low fat  \\\n",
       "549                   1.396480                 -0.115395   \n",
       "7757                 -0.716086                 -0.115395   \n",
       "764                   1.396480                 -0.115395   \n",
       "6867                 -0.716086                 -0.115395   \n",
       "2716                 -0.716086                 -0.115395   \n",
       "\n",
       "      Item_Fat_Content_reg  Item_Type_Breads  Item_Type_Breakfast  \\\n",
       "549              -0.117977         -0.174193            -0.114346   \n",
       "7757             -0.117977         -0.174193            -0.114346   \n",
       "764              -0.117977         -0.174193            -0.114346   \n",
       "6867             -0.117977         -0.174193            -0.114346   \n",
       "2716             -0.117977         -0.174193            -0.114346   \n",
       "\n",
       "      Item_Type_Canned  ...  Item_Type_Others  Item_Type_Seafood  \\\n",
       "549          -0.287094  ...         -0.142232          -0.086982   \n",
       "7757         -0.287094  ...         -0.142232          -0.086982   \n",
       "764          -0.287094  ...         -0.142232          -0.086982   \n",
       "6867         -0.287094  ...         -0.142232          -0.086982   \n",
       "2716         -0.287094  ...         -0.142232          -0.086982   \n",
       "\n",
       "      Item_Type_Snack Foods  Item_Type_Soft Drinks  Item_Type_Starchy Foods  \\\n",
       "549               -0.404805              -0.234708                -0.132935   \n",
       "7757              -0.404805              -0.234708                -0.132935   \n",
       "764               -0.404805              -0.234708                -0.132935   \n",
       "6867              -0.404805              -0.234708                -0.132935   \n",
       "2716               2.470324              -0.234708                -0.132935   \n",
       "\n",
       "      Outlet_Size_High  Outlet_Size_Medium  Outlet_Size_Small  \\\n",
       "549          -0.350395            1.432326          -0.623893   \n",
       "7757         -0.350395           -0.698165          -0.623893   \n",
       "764          -0.350395           -0.698165           1.602840   \n",
       "6867         -0.350395           -0.698165          -0.623893   \n",
       "2716         -0.350395           -0.698165           1.602840   \n",
       "\n",
       "      Outlet_Location_Type_Tier 2  Outlet_Location_Type_Tier 3  \n",
       "549                     -0.696678                    -0.804732  \n",
       "7757                     1.435383                    -0.804732  \n",
       "764                     -0.696678                    -0.804732  \n",
       "6867                     1.435383                    -0.804732  \n",
       "2716                    -0.696678                    -0.804732  \n",
       "\n",
       "[5 rows x 27 columns]"
      ]
     },
     "execution_count": 139,
     "metadata": {},
     "output_type": "execute_result"
    }
   ],
   "source": [
    "x_train.head()"
   ]
  },
  {
   "cell_type": "code",
   "execution_count": 140,
   "id": "dd38a845",
   "metadata": {},
   "outputs": [
    {
     "data": {
      "text/html": [
       "<div>\n",
       "<style scoped>\n",
       "    .dataframe tbody tr th:only-of-type {\n",
       "        vertical-align: middle;\n",
       "    }\n",
       "\n",
       "    .dataframe tbody tr th {\n",
       "        vertical-align: top;\n",
       "    }\n",
       "\n",
       "    .dataframe thead th {\n",
       "        text-align: right;\n",
       "    }\n",
       "</style>\n",
       "<table border=\"1\" class=\"dataframe\">\n",
       "  <thead>\n",
       "    <tr style=\"text-align: right;\">\n",
       "      <th></th>\n",
       "      <th>Item_Outlet_Sales</th>\n",
       "    </tr>\n",
       "  </thead>\n",
       "  <tbody>\n",
       "    <tr>\n",
       "      <th>549</th>\n",
       "      <td>2.643711</td>\n",
       "    </tr>\n",
       "    <tr>\n",
       "      <th>7757</th>\n",
       "      <td>2.732055</td>\n",
       "    </tr>\n",
       "    <tr>\n",
       "      <th>764</th>\n",
       "      <td>2.406599</td>\n",
       "    </tr>\n",
       "    <tr>\n",
       "      <th>6867</th>\n",
       "      <td>2.026383</td>\n",
       "    </tr>\n",
       "    <tr>\n",
       "      <th>2716</th>\n",
       "      <td>2.839370</td>\n",
       "    </tr>\n",
       "  </tbody>\n",
       "</table>\n",
       "</div>"
      ],
      "text/plain": [
       "      Item_Outlet_Sales\n",
       "549            2.643711\n",
       "7757           2.732055\n",
       "764            2.406599\n",
       "6867           2.026383\n",
       "2716           2.839370"
      ]
     },
     "execution_count": 140,
     "metadata": {},
     "output_type": "execute_result"
    }
   ],
   "source": [
    "y_train.head()"
   ]
  },
  {
   "cell_type": "markdown",
   "id": "35263e28",
   "metadata": {},
   "source": [
    "## LINEAR REGRESSION"
   ]
  },
  {
   "cell_type": "code",
   "execution_count": 141,
   "id": "2735fd8a",
   "metadata": {},
   "outputs": [
    {
     "data": {
      "text/plain": [
       "LinearRegression()"
      ]
     },
     "execution_count": 141,
     "metadata": {},
     "output_type": "execute_result"
    }
   ],
   "source": [
    "from sklearn.linear_model import LinearRegression\n",
    "from sklearn.metrics import r2_score, mean_squared_error, mean_absolute_error\n",
    "import math\n",
    "\n",
    "\n",
    "lr = LinearRegression()\n",
    "lr.fit(x_train, y_train)"
   ]
  },
  {
   "cell_type": "code",
   "execution_count": 142,
   "id": "0f6598ce",
   "metadata": {},
   "outputs": [],
   "source": [
    "lr_predict = lr.predict(x_test)"
   ]
  },
  {
   "cell_type": "code",
   "execution_count": 143,
   "id": "187733f1",
   "metadata": {},
   "outputs": [
    {
     "name": "stdout",
     "output_type": "stream",
     "text": [
      "R2 Score: 0.5170197486758996\n",
      "Mean Squarred Error: 0.04405693194212272\n",
      "RMSE: 0.20989743195695063\n",
      "Mean Absolute Error : 0.1654285834401894\n"
     ]
    }
   ],
   "source": [
    "yp = lr.predict(x_test)\n",
    "print(\"R2 Score:\", r2_score(y_test, lr_predict))\n",
    "print(\"Mean Squarred Error:\", mean_squared_error(y_test, lr_predict))\n",
    "print(\"RMSE:\", math.sqrt(mean_squared_error(y_test, lr_predict)))\n",
    "print(\"Mean Absolute Error : \" + str(mean_absolute_error(y_test,lr_predict)))"
   ]
  },
  {
   "cell_type": "code",
   "execution_count": 144,
   "id": "a41662ee",
   "metadata": {},
   "outputs": [
    {
     "data": {
      "text/plain": [
       "0.5170197486758996"
      ]
     },
     "execution_count": 144,
     "metadata": {},
     "output_type": "execute_result"
    }
   ],
   "source": [
    "LR_SCORE=r2_score(y_test, lr_predict)\n",
    "LR_SCORE"
   ]
  },
  {
   "cell_type": "markdown",
   "id": "4f6e5218",
   "metadata": {},
   "source": [
    "## XGBOOST REGRESSOR"
   ]
  },
  {
   "cell_type": "code",
   "execution_count": 146,
   "id": "9b0a5bc6",
   "metadata": {},
   "outputs": [
    {
     "name": "stdout",
     "output_type": "stream",
     "text": [
      "Requirement already satisfied: xgboost in /opt/anaconda3/lib/python3.9/site-packages (1.7.5)\r\n",
      "Requirement already satisfied: scipy in /opt/anaconda3/lib/python3.9/site-packages (from xgboost) (1.7.3)\r\n",
      "Requirement already satisfied: numpy in /opt/anaconda3/lib/python3.9/site-packages (from xgboost) (1.21.5)\r\n"
     ]
    }
   ],
   "source": [
    "!pip install xgboost"
   ]
  },
  {
   "cell_type": "code",
   "execution_count": 145,
   "id": "5c5014ea",
   "metadata": {},
   "outputs": [],
   "source": [
    "from xgboost import XGBRegressor\n",
    "\n",
    "xgb = XGBRegressor(n_estimators = 1000, learning_rate = 0.05)\n",
    "xgb.fit(x_train, y_train)\n",
    "\n",
    "predict = xgb.predict(x_test)"
   ]
  },
  {
   "cell_type": "code",
   "execution_count": 147,
   "id": "1ab6cd1d",
   "metadata": {},
   "outputs": [
    {
     "name": "stdout",
     "output_type": "stream",
     "text": [
      "R2 Score: 0.6880654082735813\n",
      "Mean Squarred Error: 0.028454333361267396\n",
      "RMSE: 0.1686841230266423\n",
      "Mean Absolute Error : 0.13292108351805165\n"
     ]
    }
   ],
   "source": [
    "print(\"R2 Score:\", r2_score(y_test, predict))\n",
    "print(\"Mean Squarred Error:\", mean_squared_error(y_test, predict))\n",
    "print(\"RMSE:\", math.sqrt(mean_squared_error(y_test, predict)))\n",
    "print(\"Mean Absolute Error : \" + str(mean_absolute_error(y_test,predict)))"
   ]
  },
  {
   "cell_type": "markdown",
   "id": "6e687423",
   "metadata": {},
   "source": [
    "## RANDOMFOREST REGRESSOR\n"
   ]
  },
  {
   "cell_type": "code",
   "execution_count": 148,
   "id": "a5c791b1",
   "metadata": {},
   "outputs": [
    {
     "name": "stderr",
     "output_type": "stream",
     "text": [
      "/var/folders/7w/4v21q_612y9633j8tq42bz5h0000gn/T/ipykernel_8368/2051195095.py:3: DataConversionWarning: A column-vector y was passed when a 1d array was expected. Please change the shape of y to (n_samples,), for example using ravel().\n",
      "  rf.fit(x_train, y_train)\n"
     ]
    },
    {
     "data": {
      "text/plain": [
       "RandomForestRegressor(max_depth=15, min_samples_leaf=10, n_estimators=50,\n",
       "                      random_state=47)"
      ]
     },
     "execution_count": 148,
     "metadata": {},
     "output_type": "execute_result"
    }
   ],
   "source": [
    "from sklearn.ensemble import RandomForestRegressor\n",
    "rf = RandomForestRegressor(n_estimators = 50, max_depth = 15, random_state = 47, min_samples_leaf = 10)\n",
    "rf.fit(x_train, y_train)"
   ]
  },
  {
   "cell_type": "code",
   "execution_count": 149,
   "id": "5b3f0f89",
   "metadata": {},
   "outputs": [],
   "source": [
    "rf_pred = rf.predict(x_test)"
   ]
  },
  {
   "cell_type": "code",
   "execution_count": 150,
   "id": "cc9bb8b9",
   "metadata": {},
   "outputs": [
    {
     "name": "stdout",
     "output_type": "stream",
     "text": [
      "R2 Score: 0.7143529261882346\n",
      "Mean Squarred Error: 0.026056414637845214\n",
      "RMSE: 0.16141999454170855\n",
      "Mean Absolute Error : 0.12612326602363955\n"
     ]
    }
   ],
   "source": [
    "print(\"R2 Score:\", r2_score(y_test, rf_pred))\n",
    "print(\"Mean Squarred Error:\", mean_squared_error(y_test, rf_pred))\n",
    "print(\"RMSE:\", math.sqrt(mean_squared_error(y_test, rf_pred)))\n",
    "print(\"Mean Absolute Error : \" + str(mean_absolute_error(y_test,rf_pred)))"
   ]
  },
  {
   "cell_type": "code",
   "execution_count": 151,
   "id": "6e4f415c",
   "metadata": {},
   "outputs": [
    {
     "data": {
      "text/plain": [
       "0.7143529261882346"
      ]
     },
     "execution_count": 151,
     "metadata": {},
     "output_type": "execute_result"
    }
   ],
   "source": [
    "RF_SCORE=r2_score(y_test, rf_pred)\n",
    "RF_SCORE"
   ]
  },
  {
   "cell_type": "markdown",
   "id": "948a13e9",
   "metadata": {},
   "source": [
    "## LASSO REGRSSOR"
   ]
  },
  {
   "cell_type": "code",
   "execution_count": 154,
   "id": "d398217e",
   "metadata": {},
   "outputs": [
    {
     "data": {
      "text/plain": [
       "Lasso(alpha=0.01)"
      ]
     },
     "execution_count": 154,
     "metadata": {},
     "output_type": "execute_result"
    }
   ],
   "source": [
    "from sklearn.linear_model import Lasso\n",
    "ls = Lasso(alpha = 0.01)\n",
    "ls.fit(x_train, y_train)"
   ]
  },
  {
   "cell_type": "code",
   "execution_count": 155,
   "id": "b0880883",
   "metadata": {},
   "outputs": [],
   "source": [
    "lasso_pred = ls.predict(x_test)"
   ]
  },
  {
   "cell_type": "code",
   "execution_count": 156,
   "id": "cccc7419",
   "metadata": {},
   "outputs": [
    {
     "name": "stdout",
     "output_type": "stream",
     "text": [
      "R2 Score: 0.4929084661620594\n",
      "Mean Squarred Error: 0.04625633684498845\n",
      "RMSE: 0.21507286403679207\n",
      "Mean Absolute Error : 0.17045859574011085\n"
     ]
    }
   ],
   "source": [
    "print(\"R2 Score:\", r2_score(y_test, lasso_pred))\n",
    "print(\"Mean Squarred Error:\", mean_squared_error(y_test, lasso_pred))\n",
    "print(\"RMSE:\", math.sqrt(mean_squared_error(y_test, lasso_pred)))\n",
    "print(\"Mean Absolute Error : \" + str(mean_absolute_error(y_test,lasso_pred)))"
   ]
  },
  {
   "cell_type": "code",
   "execution_count": 157,
   "id": "cfd433b5",
   "metadata": {},
   "outputs": [
    {
     "data": {
      "text/plain": [
       "0.4929084661620594"
      ]
     },
     "execution_count": 157,
     "metadata": {},
     "output_type": "execute_result"
    }
   ],
   "source": [
    "LASSO_REG=r2_score(y_test, lasso_pred)\n",
    "LASSO_REG"
   ]
  },
  {
   "cell_type": "markdown",
   "id": "1f5f2458",
   "metadata": {},
   "source": [
    "## RIDGE REGRESSOR"
   ]
  },
  {
   "cell_type": "code",
   "execution_count": 158,
   "id": "c611ee6f",
   "metadata": {},
   "outputs": [
    {
     "data": {
      "text/plain": [
       "Ridge(alpha=0.01)"
      ]
     },
     "execution_count": 158,
     "metadata": {},
     "output_type": "execute_result"
    }
   ],
   "source": [
    "from sklearn.linear_model import Ridge\n",
    "rd = Ridge(alpha = 0.01)\n",
    "rd.fit(x_train, y_train)"
   ]
  },
  {
   "cell_type": "code",
   "execution_count": 159,
   "id": "72a79a90",
   "metadata": {},
   "outputs": [],
   "source": [
    "ridge_pred = rd.predict(x_test)"
   ]
  },
  {
   "cell_type": "code",
   "execution_count": 160,
   "id": "ee0f1a7b",
   "metadata": {},
   "outputs": [
    {
     "name": "stdout",
     "output_type": "stream",
     "text": [
      "R2 Score: 0.5170197253262077\n",
      "Mean Squarred Error: 0.04405693407205616\n",
      "RMSE: 0.20989743703069877\n",
      "Mean Absolute Error : 0.1654286132969354\n"
     ]
    }
   ],
   "source": [
    "print(\"R2 Score:\", r2_score(y_test, ridge_pred))\n",
    "print(\"Mean Squarred Error:\", mean_squared_error(y_test, ridge_pred))\n",
    "print(\"RMSE:\", math.sqrt(mean_squared_error(y_test, ridge_pred)))\n",
    "print(\"Mean Absolute Error : \" + str(mean_absolute_error(y_test,ridge_pred)))"
   ]
  },
  {
   "cell_type": "code",
   "execution_count": 161,
   "id": "0868b1b1",
   "metadata": {},
   "outputs": [
    {
     "data": {
      "text/plain": [
       "0.5170197253262077"
      ]
     },
     "execution_count": 161,
     "metadata": {},
     "output_type": "execute_result"
    }
   ],
   "source": [
    "RIDGE_REG=r2_score(y_test, ridge_pred)\n",
    "RIDGE_REG"
   ]
  },
  {
   "cell_type": "markdown",
   "id": "6fb024cd",
   "metadata": {},
   "source": [
    "## Summary "
   ]
  },
  {
   "cell_type": "code",
   "execution_count": 162,
   "id": "95733167",
   "metadata": {},
   "outputs": [
    {
     "data": {
      "text/html": [
       "<div>\n",
       "<style scoped>\n",
       "    .dataframe tbody tr th:only-of-type {\n",
       "        vertical-align: middle;\n",
       "    }\n",
       "\n",
       "    .dataframe tbody tr th {\n",
       "        vertical-align: top;\n",
       "    }\n",
       "\n",
       "    .dataframe thead th {\n",
       "        text-align: right;\n",
       "    }\n",
       "</style>\n",
       "<table border=\"1\" class=\"dataframe\">\n",
       "  <thead>\n",
       "    <tr style=\"text-align: right;\">\n",
       "      <th></th>\n",
       "      <th>Model</th>\n",
       "      <th>Score</th>\n",
       "    </tr>\n",
       "  </thead>\n",
       "  <tbody>\n",
       "    <tr>\n",
       "      <th>2</th>\n",
       "      <td>RANDOMFOREST REGRESSOR</td>\n",
       "      <td>0.714353</td>\n",
       "    </tr>\n",
       "    <tr>\n",
       "      <th>1</th>\n",
       "      <td>XGBOOST REGRESSOR</td>\n",
       "      <td>0.528419</td>\n",
       "    </tr>\n",
       "    <tr>\n",
       "      <th>0</th>\n",
       "      <td>LINEAR REGRESSION</td>\n",
       "      <td>0.517020</td>\n",
       "    </tr>\n",
       "    <tr>\n",
       "      <th>4</th>\n",
       "      <td>RIDGE REGRESSOR</td>\n",
       "      <td>0.517020</td>\n",
       "    </tr>\n",
       "    <tr>\n",
       "      <th>3</th>\n",
       "      <td>LASSO REGRSSOR</td>\n",
       "      <td>0.492908</td>\n",
       "    </tr>\n",
       "  </tbody>\n",
       "</table>\n",
       "</div>"
      ],
      "text/plain": [
       "                    Model     Score\n",
       "2  RANDOMFOREST REGRESSOR  0.714353\n",
       "1       XGBOOST REGRESSOR  0.528419\n",
       "0       LINEAR REGRESSION  0.517020\n",
       "4         RIDGE REGRESSOR  0.517020\n",
       "3          LASSO REGRSSOR  0.492908"
      ]
     },
     "execution_count": 162,
     "metadata": {},
     "output_type": "execute_result"
    }
   ],
   "source": [
    "models = ['LINEAR REGRESSION','XGBOOST REGRESSOR','RANDOMFOREST REGRESSOR','LASSO REGRSSOR','RIDGE REGRESSOR']\n",
    "scores = [LR_SCORE,XGB_SCORE,RF_SCORE,LASSO_REG,RIDGE_REG]\n",
    "\n",
    "models = pd.DataFrame({'Model' : models, 'Score' : scores})\n",
    "\n",
    "models.sort_values(by = 'Score', ascending = False)"
   ]
  },
  {
   "cell_type": "code",
   "execution_count": 163,
   "id": "6efc0520",
   "metadata": {},
   "outputs": [
    {
     "data": {
      "image/png": "[encoded data removed]",
      "text/plain": [
       "<Figure size 1296x576 with 1 Axes>"
      ]
     },
     "metadata": {
      "needs_background": "light"
     },
     "output_type": "display_data"
    }
   ],
   "source": [
    "plt.figure(figsize = (18, 8))\n",
    "sns.barplot(x = 'Model', y = 'Score', data = models, palette = 'dark')\n",
    "plt.show()"
   ]
  },
  {
   "cell_type": "code",
   "execution_count": null,
   "id": "78a4e530",
   "metadata": {},
   "outputs": [],
   "source": []
  }
 ],
 "metadata": {
  "kernelspec": {
   "display_name": "Python 3 (ipykernel)",
   "language": "python",
   "name": "python3"
  },
  "language_info": {
   "codemirror_mode": {
    "name": "ipython",
    "version": 3
   },
   "file_extension": ".py",
   "mimetype": "text/x-python",
   "name": "python",
   "nbconvert_exporter": "python",
   "pygments_lexer": "ipython3",
   "version": "3.9.12"
  }
 },
 "nbformat": 4,
 "nbformat_minor": 5
}
